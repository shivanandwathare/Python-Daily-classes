{
  "nbformat": 4,
  "nbformat_minor": 0,
  "metadata": {
    "colab": {
      "provenance": []
    },
    "kernelspec": {
      "name": "python3",
      "display_name": "Python 3"
    },
    "language_info": {
      "name": "python"
    }
  },
  "cells": [
    {
      "cell_type": "code",
      "execution_count": 19,
      "metadata": {
        "id": "7ZjeB4Grsiez",
        "colab": {
          "base_uri": "https://localhost:8080/"
        },
        "outputId": "956196ab-59c1-47bc-f8da-ab3d3aba0c30"
      },
      "outputs": [
        {
          "output_type": "stream",
          "name": "stdout",
          "text": [
            "[1, 1, 2, 2, 3, 2]\n"
          ]
        }
      ],
      "source": [
        "a=[1,1,2,2,3,2]\n",
        "print(a)"
      ]
    },
    {
      "cell_type": "code",
      "source": [
        "Example=[\"Laptop\",39000,\"Window\",\"Lenovo\",\"Bengaluru\",\"Laptop\",39000,\"MAC\",\"Lenovo\",\"chikodi\"]\n",
        "print(Example)\n",
        "print(Example.count(\"Lenovo\"))"
      ],
      "metadata": {
        "id": "C_SVvkCDtnwg",
        "colab": {
          "base_uri": "https://localhost:8080/"
        },
        "outputId": "13b073a0-dd2e-4b1d-be78-92e618288248"
      },
      "execution_count": 20,
      "outputs": [
        {
          "output_type": "stream",
          "name": "stdout",
          "text": [
            "['Laptop', 39000, 'Window', 'Lenovo', 'Bengaluru', 'Laptop', 39000, 'MAC', 'Lenovo', 'chikodi']\n",
            "2\n"
          ]
        }
      ]
    },
    {
      "cell_type": "code",
      "source": [
        "#compile time program\n",
        "A=10\n",
        "B=20\n",
        "print(A+B)"
      ],
      "metadata": {
        "colab": {
          "base_uri": "https://localhost:8080/"
        },
        "id": "2cju_ELexqhk",
        "outputId": "dc857713-9b5e-4578-b319-84af9fd7f292"
      },
      "execution_count": 21,
      "outputs": [
        {
          "output_type": "stream",
          "name": "stdout",
          "text": [
            "30\n"
          ]
        }
      ]
    },
    {
      "cell_type": "code",
      "source": [
        "X=int(input(\"Enter X value:\"))\n",
        "Y=int(input(\"Enter Y value:\"))\n",
        "print(\"Addition of \",X,\" and \" ,Y,\"value is=\",X+Y)\n"
      ],
      "metadata": {
        "colab": {
          "base_uri": "https://localhost:8080/"
        },
        "id": "QPbzJqR2zGoX",
        "outputId": "655aab2b-3c98-4df7-dacd-62ae976a559b"
      },
      "execution_count": 22,
      "outputs": [
        {
          "output_type": "stream",
          "name": "stdout",
          "text": [
            "Enter X value:10\n",
            "Enter Y value:20\n",
            "Addition of  10  and  20 value is= 30\n"
          ]
        }
      ]
    },
    {
      "cell_type": "code",
      "source": [
        "first=float(input(\"Enter first value:\"))\n",
        "second=float(input(\"Enter second value:\"))\n",
        "print(\"multiplication of \",first,\" and \" ,second,\"value is=\",first*second)"
      ],
      "metadata": {
        "colab": {
          "base_uri": "https://localhost:8080/"
        },
        "id": "8Rno93Ku2oW2",
        "outputId": "3348bc10-edd2-4726-b76f-b4331c60434b"
      },
      "execution_count": 23,
      "outputs": [
        {
          "output_type": "stream",
          "name": "stdout",
          "text": [
            "Enter first value:7\n",
            "Enter second value:5\n",
            "multiplication of  7.0  and  5.0 value is= 35.0\n"
          ]
        }
      ]
    },
    {
      "cell_type": "code",
      "source": [
        "first_name=input(\"Enter first name:\")\n",
        "last_name=input(\"Enter last name:\")\n",
        "print(first_name+\"   \"+last_name)"
      ],
      "metadata": {
        "colab": {
          "base_uri": "https://localhost:8080/"
        },
        "id": "mAChNxXW3mgl",
        "outputId": "f6e19e6e-d42f-4afd-81a2-62c8695785e5"
      },
      "execution_count": 24,
      "outputs": [
        {
          "output_type": "stream",
          "name": "stdout",
          "text": [
            "Enter first name:ajit \n",
            "Enter last name:kanade\n",
            "ajit    kanade\n"
          ]
        }
      ]
    },
    {
      "cell_type": "code",
      "source": [
        "i=float(input(\"Enter i value:\"))\n",
        "j=float(input(\"Enter j value:\"))\n",
        "print(\"multiplication of \",i,\" and \" ,j,\"value is=\",i*j)"
      ],
      "metadata": {
        "colab": {
          "base_uri": "https://localhost:8080/"
        },
        "id": "kmvncwwu4n_t",
        "outputId": "a7e36618-bc86-4dee-e9cf-0a1ce458aab5"
      },
      "execution_count": 25,
      "outputs": [
        {
          "output_type": "stream",
          "name": "stdout",
          "text": [
            "Enter i value:7\n",
            "Enter j value:5\n",
            "multiplication of  7.0  and  5.0 value is= 35.0\n"
          ]
        }
      ]
    },
    {
      "cell_type": "code",
      "source": [
        "X=100\n",
        "Y=50\n",
        "print(f'Addition of{X} and {Y} value is = {X+Y}')"
      ],
      "metadata": {
        "colab": {
          "base_uri": "https://localhost:8080/"
        },
        "id": "tlCf4Cbv-95s",
        "outputId": "4a49dbbb-26c3-4512-9c23-8a917a5433f3"
      },
      "execution_count": 28,
      "outputs": [
        {
          "output_type": "stream",
          "name": "stdout",
          "text": [
            "Addition of100 and 50 value is = 150\n"
          ]
        }
      ]
    },
    {
      "cell_type": "code",
      "source": [
        "X=100\n",
        "Y=5\n",
        "print(f'Division of{X} and {Y} value is = {X/Y}')\n"
      ],
      "metadata": {
        "colab": {
          "base_uri": "https://localhost:8080/"
        },
        "id": "bULa4aw0_wyD",
        "outputId": "53e3b0fe-2d5d-4a7f-89d8-e9d443e20f86"
      },
      "execution_count": 32,
      "outputs": [
        {
          "output_type": "stream",
          "name": "stdout",
          "text": [
            "Division of100 and 5 value is = 20.0\n"
          ]
        }
      ]
    },
    {
      "cell_type": "code",
      "source": [
        "#Hi,Good Morning MY name is vinayak,I have completed puc in the year of\n",
        "#2022,currently i'm studying BCA in KLE BK BCA College Chikodi 591201\n",
        "name=\"vinayak\"\n",
        "course=\"puc\"\n",
        "year=2022\n",
        "college=\"BK BCA\"\n",
        "pincode=591201\n",
        "print(f'hi Good Morning,my name is,{name},i have completed,{course} in the year of{year},currently im studying in {college},{pincode}')"
      ],
      "metadata": {
        "colab": {
          "base_uri": "https://localhost:8080/"
        },
        "id": "eT6gxpyt_wqE",
        "outputId": "22c4290c-30b2-44c6-b1d1-7247f4682da6"
      },
      "execution_count": 39,
      "outputs": [
        {
          "output_type": "stream",
          "name": "stdout",
          "text": [
            "hi Good Morning,my name is,vinayak,i have completed,puc in the year of2022,currently im studying in BK BCA,591201\n"
          ]
        }
      ]
    },
    {
      "cell_type": "code",
      "source": [
        "#arthimetic operation\n",
        "Num1=int(input(\"enter Num1 value:\"))\n",
        "Num2=int(input(\"enter Num2 value:\"))\n",
        "print('Addition of two number is'\"Num1+Num2\")\n",
        "print('substraction of two number is' \"Num1-Num2\")\n",
        "print('multiplication of two number  is'\n",
        "\n",
        "\n",
        "Num1*Num2\")\n",
        "print('division of two number is'{Num1/Num2})\n",
        "print('modulus of two number  is'  {Num1%Num2})\n",
        "print('floor division of two number  is'  {Num1//Num2})\n",
        "print('exponent of two number is' {Num1**Num2})\n",
        "\n"
      ],
      "metadata": {
        "colab": {
          "base_uri": "https://localhost:8080/"
        },
        "id": "sOQU0EDXELMk",
        "outputId": "88ee410b-e72b-4f1a-d610-e853cfc8b221"
      },
      "execution_count": 58,
      "outputs": [
        {
          "output_type": "stream",
          "name": "stdout",
          "text": [
            "enter Num1 value:00\n",
            "enter Num2 value:580\n",
            "Addition of two number isNum1+Num2\n",
            "substraction of two number isNum1-Num2\n",
            "multiplication of two number  isNum1*Num2\n",
            "division of two number isNum1/Num2\n",
            "modulus of two number  isNum1%Num2\n",
            "floor division of two number  isNum1//Num2\n",
            "exponent of two number isNum1**Num2\n"
          ]
        }
      ]
    },
    {
      "cell_type": "code",
      "source": [
        "number1=35\n",
        "number2=40\n",
        "print(number1 > number2)\n",
        "print(number1 < number2)\n",
        "print(number1 == number2)\n",
        "print(number1 != number2)\n",
        "print(number2 != 40)\n",
        "print(number2 >= 40)\n",
        "print(10 !=20)\n",
        "print(number1 == number2)\n",
        "print(number2 != number1)"
      ],
      "metadata": {
        "colab": {
          "base_uri": "https://localhost:8080/"
        },
        "id": "UHjK42X2OuER",
        "outputId": "1cb658f5-89a7-4b92-d5f1-5ab81ddc7575"
      },
      "execution_count": 67,
      "outputs": [
        {
          "output_type": "stream",
          "name": "stdout",
          "text": [
            "False\n",
            "True\n",
            "False\n",
            "True\n",
            "False\n",
            "True\n",
            "True\n",
            "False\n",
            "True\n"
          ]
        }
      ]
    },
    {
      "cell_type": "code",
      "source": [
        "a =20\n",
        "b =35\n",
        "c =13\n",
        "d =10\n",
        "print (a==b and c<d )\n",
        "print( 13 != c and d<c)\n",
        "print(b>a and d<c)\n",
        "print( 20!= a and c==b)\n",
        "print(a<b or d == c)\n",
        "print((not(a<b))and 100 < 200)\n",
        "print(not(d ==10))\n",
        "print( 35 != d or (not(20==a)))\n",
        "print(not(c <=b and (not(a <=c))))"
      ],
      "metadata": {
        "colab": {
          "base_uri": "https://localhost:8080/"
        },
        "id": "Wo6LNO6aS4I-",
        "outputId": "2c51dc4a-cdb4-4b3c-b2fe-49be8d69d613"
      },
      "execution_count": 80,
      "outputs": [
        {
          "output_type": "stream",
          "name": "stdout",
          "text": [
            "False\n",
            "False\n",
            "True\n",
            "False\n",
            "True\n",
            "False\n",
            "False\n",
            "True\n",
            "False\n"
          ]
        }
      ]
    },
    {
      "cell_type": "code",
      "source": [
        "X=10\n",
        "X-=2\n",
        "print(X)\n",
        "\n",
        "X*=5\n",
        "print(X)\n",
        "\n",
        "X*=3\n",
        "print(X)\n",
        "\n",
        "X//=3\n",
        "print(X)\n",
        "\n",
        "X **=2\n",
        "print(X)\n",
        "\n",
        "X%=4\n",
        "print(X)\n",
        "\n",
        "X+=9\n",
        "print(X)\n",
        "\n",
        "X/=3\n",
        "print(X)"
      ],
      "metadata": {
        "colab": {
          "base_uri": "https://localhost:8080/"
        },
        "id": "xiN6nDo3YVAW",
        "outputId": "df10e7af-8aea-4542-82ec-fdacba1dee42"
      },
      "execution_count": 113,
      "outputs": [
        {
          "output_type": "stream",
          "name": "stdout",
          "text": [
            "8\n",
            "40\n",
            "120\n",
            "40\n",
            "1600\n",
            "0\n",
            "9\n",
            "3.0\n"
          ]
        }
      ]
    },
    {
      "cell_type": "code",
      "source": [
        "X=10\n",
        "X-=2\n",
        "print(X)\n",
        "\n",
        "X*=5\n",
        "print(X)\n",
        "\n",
        "X*=3\n",
        "print(X)\n",
        "\n",
        "X//=3\n",
        "print(X)\n",
        "\n",
        "X **=2\n",
        "print(X)\n",
        "\n",
        "X%=4\n",
        "print(X)\n",
        "\n",
        "X+=9\n",
        "print(X)\n",
        "\n",
        "X/=3\n",
        "print(X)"
      ],
      "metadata": {
        "colab": {
          "base_uri": "https://localhost:8080/"
        },
        "id": "88SKVaTJeKBn",
        "outputId": "2eb508b0-1121-40db-88d0-8f12aeacfe82"
      },
      "execution_count": 114,
      "outputs": [
        {
          "output_type": "stream",
          "name": "stdout",
          "text": [
            "8\n",
            "40\n",
            "120\n",
            "40\n",
            "1600\n",
            "0\n",
            "9\n",
            "3.0\n"
          ]
        }
      ]
    },
    {
      "cell_type": "code",
      "source": [
        "Num=9\n",
        "if Num<10:\n",
        "  print(\"10 is a greater than 9\")"
      ],
      "metadata": {
        "colab": {
          "base_uri": "https://localhost:8080/"
        },
        "id": "BP_R7TJV0Ym7",
        "outputId": "e23ddfb6-9914-439f-f4af-8387e0231a09"
      },
      "execution_count": 7,
      "outputs": [
        {
          "output_type": "stream",
          "name": "stdout",
          "text": [
            "10 is a greater than 9\n"
          ]
        }
      ]
    },
    {
      "cell_type": "code",
      "source": [
        "User_id=\"20MCA103\"\n",
        "Password=1234\n",
        "if User_id==\"20MCA103\" and Password==1234:\n",
        "  print(\"Login Successfull\")"
      ],
      "metadata": {
        "colab": {
          "base_uri": "https://localhost:8080/"
        },
        "id": "iLWqi-Ss1mW1",
        "outputId": "4cd7c9f2-d98f-4f01-c1fd-f257cc223cda"
      },
      "execution_count": 10,
      "outputs": [
        {
          "output_type": "stream",
          "name": "stdout",
          "text": [
            "Login Successfull\n"
          ]
        }
      ]
    },
    {
      "cell_type": "code",
      "source": [
        "ex=59\n",
        "if ex ==58:\n",
        " print(\"Are you understand\")"
      ],
      "metadata": {
        "id": "FHBR9LD32h5f"
      },
      "execution_count": 18,
      "outputs": []
    },
    {
      "cell_type": "code",
      "source": [
        "Name=\"Basu\"\n",
        "if Name==\"Bkc\":\n",
        "  print(\"my name is Basu\")"
      ],
      "metadata": {
        "id": "0F0QLd9P3MuW"
      },
      "execution_count": 23,
      "outputs": []
    },
    {
      "cell_type": "code",
      "source": [
        "Num=int(input(\"Enter value of a number:\"))\n",
        "if Num > 0 :\n",
        "  print(\"positive number\")\n",
        "else:\n",
        "    print(\"negative number\")"
      ],
      "metadata": {
        "colab": {
          "base_uri": "https://localhost:8080/"
        },
        "id": "2EopjEep5ty1",
        "outputId": "5813d6cf-e153-457f-8d92-80cd0d7cbfa4"
      },
      "execution_count": 39,
      "outputs": [
        {
          "output_type": "stream",
          "name": "stdout",
          "text": [
            "Enter a number value:-7\n",
            "negative number\n"
          ]
        }
      ]
    },
    {
      "cell_type": "code",
      "source": [
        "Num=int(input(\"Enter a number value:\"))\n",
        "if Num % 2==0:\n",
        "  print(\"even number\")\n",
        "else:\n",
        "    print(\"odd number\")"
      ],
      "metadata": {
        "colab": {
          "base_uri": "https://localhost:8080/"
        },
        "id": "Xw5fcFLi63Dl",
        "outputId": "f287b365-e4a2-417e-812e-b39579271cbb"
      },
      "execution_count": 51,
      "outputs": [
        {
          "output_type": "stream",
          "name": "stdout",
          "text": [
            "Enter a number value:96\n",
            "even number\n"
          ]
        }
      ]
    },
    {
      "cell_type": "code",
      "source": [
        "year=int(input(\"Enter value of a year:\"))\n",
        "if year%4==0 :\n",
        "  print(\"leap number\")\n",
        "else:\n",
        "    print(\" non leap year\")"
      ],
      "metadata": {
        "colab": {
          "base_uri": "https://localhost:8080/"
        },
        "id": "PKtWFm7K9_d1",
        "outputId": "23d5c7d0-8b6d-4bca-e836-43c8c96f2f8c"
      },
      "execution_count": 60,
      "outputs": [
        {
          "output_type": "stream",
          "name": "stdout",
          "text": [
            "Enter value of a year:2025\n",
            " non leap year\n"
          ]
        }
      ]
    },
    {
      "cell_type": "code",
      "source": [
        "Age=int(input(\"Enter value of a Age:\"))\n",
        "if Age>18:\n",
        "  print(\"Eligible\")\n",
        "else:\n",
        "    print(\" non Eligible\")"
      ],
      "metadata": {
        "colab": {
          "base_uri": "https://localhost:8080/"
        },
        "id": "2HQGLvjM_lc-",
        "outputId": "f8021813-70e0-4550-d0a0-47eb3453809a"
      },
      "execution_count": 64,
      "outputs": [
        {
          "output_type": "stream",
          "name": "stdout",
          "text": [
            "Enter value of a Age:20\n",
            "Eligible\n"
          ]
        }
      ]
    },
    {
      "cell_type": "code",
      "source": [
        "\n",
        "Password=int(input(\"Enter value of a Password:\"))\n",
        "if Password==1234:\n",
        "  print(\"Login Successfull\")\n",
        "else:\n",
        "    print(\"Login Failed\")"
      ],
      "metadata": {
        "colab": {
          "base_uri": "https://localhost:8080/"
        },
        "id": "2Y4Zo6x6Aycj",
        "outputId": "dcb3bfab-abf7-4103-d396-f928c8b4a3f9"
      },
      "execution_count": 75,
      "outputs": [
        {
          "output_type": "stream",
          "name": "stdout",
          "text": [
            "Enter value of a Password:2001\n",
            "Login Failed\n"
          ]
        }
      ]
    },
    {
      "cell_type": "code",
      "source": [
        "int(input(\"Enter a number value:\"))\n",
        "if   Num>=85:\n",
        "  print(\"Distiction\")\n",
        "elif Num>=75:\n",
        "  print(\"First Class\")\n",
        "elif Num>=55:\n",
        "  print(\"Second Class\")\n",
        "else:\n",
        " print(\"Fail\")\n",
        "\n"
      ],
      "metadata": {
        "colab": {
          "base_uri": "https://localhost:8080/"
        },
        "id": "fToRFcffGRCT",
        "outputId": "b2751fef-ebbe-4d37-b680-27443b941f75"
      },
      "execution_count": 94,
      "outputs": [
        {
          "output_type": "stream",
          "name": "stdout",
          "text": [
            "Enter a number value:85\n",
            "Distiction\n"
          ]
        }
      ]
    },
    {
      "cell_type": "code",
      "source": [
        "place=input(\"Enter a place\")\n",
        "if place==\"FIRST PRIZE\":\n",
        " print(\"Gold medal\")\n",
        "elif place==\"SECOND PRIZE\":\n",
        " print(\"Silver medal\")\n",
        "elif place==\"THIRD PRIZE\":\n",
        " print(\"Bronze medal\")\n",
        "else:\n",
        "  print(\"No medal\")"
      ],
      "metadata": {
        "colab": {
          "base_uri": "https://localhost:8080/"
        },
        "id": "7rqYRuaxJJ0T",
        "outputId": "da4b6088-3247-469f-efc4-4ba75da8bec3"
      },
      "execution_count": 115,
      "outputs": [
        {
          "output_type": "stream",
          "name": "stdout",
          "text": [
            "Enter a placeFIRST PRIZE\n",
            "Gold medal\n"
          ]
        }
      ]
    },
    {
      "cell_type": "code",
      "source": [
        "SIGNAL=input(\"Enter a Signal\")\n",
        "if SIGNAL==\"RED\":\n",
        " print(\"STOP\")\n",
        "elif SIGNAL==\"YELLOW\":\n",
        " print(\"READY\")\n",
        "elif SIGNAL==\"GREEN\":\n",
        " print(\"GO\")\n",
        "else:\n",
        "  print(\"invalid colors\")"
      ],
      "metadata": {
        "colab": {
          "base_uri": "https://localhost:8080/"
        },
        "id": "RLvsKI8mMbhl",
        "outputId": "76937d3f-bbd4-49ff-c2d6-ac15ad6d64bd"
      },
      "execution_count": 119,
      "outputs": [
        {
          "output_type": "stream",
          "name": "stdout",
          "text": [
            "Enter a SignalYELLOW\n",
            "READY\n"
          ]
        }
      ]
    }
  ]
}