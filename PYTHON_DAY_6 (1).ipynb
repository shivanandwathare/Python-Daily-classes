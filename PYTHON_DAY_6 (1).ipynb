{
  "cells": [
    {
      "cell_type": "code",
      "execution_count": null,
      "metadata": {
        "colab": {
          "base_uri": "https://localhost:8080/"
        },
        "id": "RyfYsMn2EdDB",
        "outputId": "9b841ee3-1a6c-4f6d-d2e6-7c850091f601"
      },
      "outputs": [
        {
          "name": "stdout",
          "output_type": "stream",
          "text": [
            "Total vowels is: 8\n"
          ]
        }
      ],
      "source": [
        "sentens = \"python programming language\"\n",
        "count = 0\n",
        "for ch in sentens:\n",
        "    if ch in \"aeiou\":\n",
        "        count += 1\n",
        "print(\"Total vowels is:\",count)"
      ]
    },
    {
      "cell_type": "code",
      "execution_count": null,
      "metadata": {
        "colab": {
          "base_uri": "https://localhost:8080/"
        },
        "id": "yQpGGVfuGc5k",
        "outputId": "9cb1e334-eb6f-4f10-e07e-2c719fdb925a"
      },
      "outputs": [
        {
          "name": "stdout",
          "output_type": "stream",
          "text": [
            "The area of the triangle is: 25.0\n"
          ]
        }
      ],
      "source": [
        "\n",
        "# write program area of triangle\n",
        "\n",
        "base = 10\n",
        "height = 5\n",
        "area = 0.5 * base * height\n",
        "print(\"The area of the triangle is:\", area)"
      ]
    },
    {
      "cell_type": "code",
      "execution_count": null,
      "metadata": {
        "colab": {
          "base_uri": "https://localhost:8080/"
        },
        "id": "O6ILaPNwGDzU",
        "outputId": "ffa0fb24-0de9-4855-c94b-a8206c7d9183"
      },
      "outputs": [
        {
          "name": "stdout",
          "output_type": "stream",
          "text": [
            "The area of the circle is: 78.53981633974483\n"
          ]
        }
      ],
      "source": [
        "#write progrm area of circle\n",
        "import math\n",
        "\n",
        "radius = 5\n",
        "  # Example radius\n",
        "area = math.pi * (radius ** 2)\n",
        "print(\"The area of the circle is:\", area)"
      ]
    },
    {
      "cell_type": "code",
      "execution_count": null,
      "metadata": {
        "colab": {
          "base_uri": "https://localhost:8080/"
        },
        "id": "L3eN6-JoI_tl",
        "outputId": "69e1100a-af20-41f7-af9b-244a5e6fec92"
      },
      "outputs": [
        {
          "name": "stdout",
          "output_type": "stream",
          "text": [
            "Total consonants is: 29\n"
          ]
        }
      ],
      "source": [
        "sentens = \"Bachelor of computer science first semester section c\"\n",
        "count = 0\n",
        "vowels = \"aeiouAEIOU\"\n",
        "for ch in sentens:\n",
        "    if ch.isalpha() and ch not in vowels:\n",
        "        count += 1\n",
        "print(\"Total consonants is:\", count)"
      ]
    },
    {
      "cell_type": "code",
      "execution_count": null,
      "metadata": {
        "colab": {
          "base_uri": "https://localhost:8080/"
        },
        "id": "NpYtR3fTHaC0",
        "outputId": "407719e1-0302-4203-ab7e-2e79b070e422"
      },
      "outputs": [
        {
          "name": "stdout",
          "output_type": "stream",
          "text": [
            "The largest number in the list is: 45\n"
          ]
        }
      ],
      "source": [
        "ex = [5,25,35,28,45,10,15]\n",
        "largest_number = ex[0]\n",
        "for num in ex:\n",
        "    if num > largest_number:\n",
        "        largest_number = num\n",
        "print(\"The largest number in the list is:\", largest_number)"
      ]
    },
    {
      "cell_type": "code",
      "execution_count": null,
      "metadata": {
        "colab": {
          "base_uri": "https://localhost:8080/"
        },
        "id": "Q-EYPBm5NynP",
        "outputId": "ed38151a-ad6c-4b04-922d-6fc474edb1ca"
      },
      "outputs": [
        {
          "name": "stdout",
          "output_type": "stream",
          "text": [
            "Total consants is: 8\n"
          ]
        }
      ],
      "source": [
        "sentens = \"Bachelor of computer science first semester section c\"\n"
      ]
    },
    {
      "cell_type": "code",
      "execution_count": null,
      "metadata": {
        "colab": {
          "base_uri": "https://localhost:8080/"
        },
        "id": "xb3l7xB3inU7",
        "outputId": "942d837a-994f-4fc0-f3f7-54636ddd87ac"
      },
      "outputs": [
        {
          "name": "stdout",
          "output_type": "stream",
          "text": [
            "RX 100\n",
            "GT 650\n",
            "Ninja\n",
            "Splender\n",
            "Bajaj\n",
            "Pulsar\n"
          ]
        }
      ],
      "source": [
        "bikes = [\"RX 100\", \"GT 650\",\"Ninja\",\"Splender\",\"Bajaj\",\"Pulsar\",\"NS 200\",\"M 80\",\"Unicorn\"]\n",
        "for bike in bikes:\n",
        "    if bike == \"NS 200\" :\n",
        "      break\n",
        "    print(bike)"
      ]
    },
    {
      "cell_type": "code",
      "execution_count": null,
      "metadata": {
        "id": "HfrEedPaknMq"
      },
      "outputs": [],
      "source": [
        "colours = {\"Purple\",\"Pink\",\"Black\",\"white\",\"Red\",\"Orange\",\"Levender\",\"Grey\",\"Yellow\",\"Maroon\"}\n",
        "for color in colours :\n",
        "    if color == \"Black\" :\n",
        "       break\n",
        "    print(color)\n",
        "\n"
      ]
    },
    {
      "cell_type": "code",
      "execution_count": null,
      "metadata": {
        "colab": {
          "base_uri": "https://localhost:8080/"
        },
        "id": "Lv6yD0XIlCHC",
        "outputId": "cc0a65ed-5f20-4d21-f7cf-e21956cb13fd"
      },
      "outputs": [
        {
          "name": "stdout",
          "output_type": "stream",
          "text": [
            "APPLE\n",
            "ORANGE\n",
            "STRAWBERRY\n",
            "Dragon fruit\n",
            "Greeps\n",
            "Banana\n",
            "pinapal\n",
            "pappaya\n",
            "Water melon\n"
          ]
        }
      ],
      "source": [
        "fruit=(\"APPLE\",\"ORANGE\",\"MANGO\",\"STRAWBERRY\",\"Dragon fruit\",\"Greeps\",\"Banana\",\"pinapal\",\"pappaya\",\"Water melon\")\n",
        "for fruits in fruit:\n",
        "    if fruits == \"MANGO\" :\n",
        "        continue\n",
        "    print(fruits)"
      ]
    },
    {
      "cell_type": "code",
      "execution_count": null,
      "metadata": {
        "colab": {
          "base_uri": "https://localhost:8080/"
        },
        "id": "1GWuyT9Goojs",
        "outputId": "f4818fdf-9e51-40c8-ec0d-d519f1dbe057"
      },
      "outputs": [
        {
          "name": "stdout",
          "output_type": "stream",
          "text": [
            "Redmi\n",
            "one plus\n",
            "Iqee\n",
            "oppo\n"
          ]
        }
      ],
      "source": [
        "Mobiles = {\"vivo\",\"Redmi\",\"oppo\",\"vivo\",\"vivo\",\"vivo\",\"oppo\",\"Iqee\",\"vivo\",\"one plus\"}\n",
        "for mobile in Mobiles:\n",
        "    if mobile == \"vivo\":\n",
        "        continue\n",
        "    print(mobile)"
      ]
    },
    {
      "cell_type": "code",
      "execution_count": null,
      "metadata": {
        "colab": {
          "base_uri": "https://localhost:8080/"
        },
        "id": "wOBf1CPAqPVi",
        "outputId": "99b87867-d18a-41b1-ce28-652e9b07aa08"
      },
      "outputs": [
        {
          "name": "stdout",
          "output_type": "stream",
          "text": [
            "KGF\n",
            "Chhava\n",
            "Bahubali\n",
            "Saiyara\n",
            "RRR\n",
            "Kalki\n",
            "Kannadakagi onendanu otti\n"
          ]
        }
      ],
      "source": [
        "Movies=[\"KGF\",\"Chhava\",\"Bahubali\",\"Saiyara\",\"RRR\",\"Kalki\",\"Kannadakagi onendanu otti\"]\n",
        "for Movie in Movies:\n",
        "    if Movie == \"RRR\":\n",
        "       pass\n",
        "    print(Movie)"
      ]
    },
    {
      "cell_type": "code",
      "execution_count": null,
      "metadata": {
        "colab": {
          "base_uri": "https://localhost:8080/"
        },
        "id": "eiY3xTewspGc",
        "outputId": "da285951-bd65-4ca8-d63b-c7702486e52a"
      },
      "outputs": [
        {
          "name": "stdout",
          "output_type": "stream",
          "text": [
            "laptop\n",
            "tab\n",
            "book\n",
            "monitor\n",
            "pen\n",
            "pepar\n"
          ]
        }
      ],
      "source": [
        "thing = {\"mobile\",\"laptop\",\"monitor\",\"tab\",\"book\",\"pen\",\"pepar\"}\n",
        "for thing in thing:\n",
        "   if thing == \"mobile\":\n",
        "    continue\n",
        "   print(thing)"
      ]
    },
    {
      "cell_type": "code",
      "execution_count": null,
      "metadata": {
        "colab": {
          "base_uri": "https://localhost:8080/"
        },
        "id": "UrPjPvHaB-A2",
        "outputId": "c7622688-fb8c-4c7a-a7b1-7cf8e4fa04e3"
      },
      "outputs": [
        {
          "name": "stdout",
          "output_type": "stream",
          "text": [
            "0 0 0 0 0 0 0 0 0 0 \n",
            "1 1 1 1 1 1 1 1 1 1 \n",
            "2 2 2 2 2 2 2 2 2 2 \n",
            "3 3 3 3 3 3 3 3 3 3 \n",
            "4 4 4 4 4 4 4 4 4 4 \n",
            "5 5 5 5 5 5 5 5 5 5 \n",
            "6 6 6 6 6 6 6 6 6 6 \n",
            "7 7 7 7 7 7 7 7 7 7 \n",
            "8 8 8 8 8 8 8 8 8 8 \n",
            "9 9 9 9 9 9 9 9 9 9 \n"
          ]
        }
      ],
      "source": [
        "for i in range (10) :\n",
        "  for j in range (10) :\n",
        "    print(i,end=\" \")\n",
        "  print()"
      ]
    },
    {
      "cell_type": "code",
      "execution_count": null,
      "metadata": {
        "colab": {
          "base_uri": "https://localhost:8080/"
        },
        "id": "M2D5OpF5Bmbt",
        "outputId": "32970f09-bacf-4980-bedd-a8a764f358ce"
      },
      "outputs": [
        {
          "name": "stdout",
          "output_type": "stream",
          "text": [
            "0 \n",
            "0 1 \n",
            "0 1 2 \n",
            "0 1 2 3 \n",
            "0 1 2 3 4 \n",
            "0 1 2 3 4 5 \n",
            "0 1 2 3 4 5 6 \n",
            "0 1 2 3 4 5 6 7 \n",
            "0 1 2 3 4 5 6 7 8 \n",
            "0 1 2 3 4 5 6 7 8 9 \n"
          ]
        }
      ],
      "source": [
        "for i in range (1,11) :\n",
        "  for j in range (j) :\n",
        "    print(j,end=\" \")\n",
        "  print()\n",
        "\n",
        "\n"
      ]
    },
    {
      "cell_type": "code",
      "execution_count": 69,
      "metadata": {
        "colab": {
          "base_uri": "https://localhost:8080/"
        },
        "id": "2EDMNV70DfMP",
        "outputId": "9eb802da-bc48-42a6-8887-288d1dd3ee89"
      },
      "outputs": [
        {
          "output_type": "stream",
          "name": "stdout",
          "text": [
            "\n",
            "\n",
            "\n",
            "\n",
            "\n",
            "\n",
            "\n",
            "\n",
            "\n",
            "\n"
          ]
        }
      ],
      "source": [
        "for i in range (1,11) :\n",
        "  for j in range (j) :\n",
        "    print(j,end=\" \")\n",
        "  print()\n"
      ]
    },
    {
      "cell_type": "code",
      "execution_count": 17,
      "metadata": {
        "colab": {
          "base_uri": "https://localhost:8080/"
        },
        "id": "ojzdsHajFHcF",
        "outputId": "db47094a-91ff-4c28-e8f1-39a8c99704cf"
      },
      "outputs": [
        {
          "output_type": "stream",
          "name": "stdout",
          "text": [
            "        * * * * * * * * * * \n",
            "      * * * * * * * * * * \n",
            "    * * * * * * * * * * \n",
            "  * * * * * * * * * * \n",
            "* * * * * * * * * * \n"
          ]
        }
      ],
      "source": [
        "for i in range (5) :\n",
        "  for j in range (i+1,5) :\n",
        "    print(\" \",end=\" \")\n",
        "  for j in range(10) :\n",
        "      print(\"*\",end=\" \")\n",
        "  print()\n"
      ]
    },
    {
      "cell_type": "code",
      "source": [
        "for i in range (5) :\n",
        "  for j in range (i+1,5) :\n",
        "    print(\" \",end=\" \")\n",
        "  for j in range(10) :\n",
        "      print(\"😍\",end=\" \")\n",
        "  print()"
      ],
      "metadata": {
        "colab": {
          "base_uri": "https://localhost:8080/"
        },
        "id": "m1-09JV_NHFC",
        "outputId": "f89828e5-5470-44fe-a764-9515d88b14a0"
      },
      "execution_count": 18,
      "outputs": [
        {
          "output_type": "stream",
          "name": "stdout",
          "text": [
            "        😍 😍 😍 😍 😍 😍 😍 😍 😍 😍 \n",
            "      😍 😍 😍 😍 😍 😍 😍 😍 😍 😍 \n",
            "    😍 😍 😍 😍 😍 😍 😍 😍 😍 😍 \n",
            "  😍 😍 😍 😍 😍 😍 😍 😍 😍 😍 \n",
            "😍 😍 😍 😍 😍 😍 😍 😍 😍 😍 \n"
          ]
        }
      ]
    },
    {
      "cell_type": "code",
      "source": [
        "row = 10\n",
        "col = 10\n",
        "for i in range (0,row) :\n",
        "  for j in range (0,col) :\n",
        "    if i == 0 or j == 0 or i == row-1 or j == col-1 :\n",
        "      print(\"♥️\",end=\" \")\n",
        "    else :\n",
        "      print(\" \",end=\" \")\n",
        "  print()"
      ],
      "metadata": {
        "colab": {
          "base_uri": "https://localhost:8080/"
        },
        "id": "PsHuAoUmNjvl",
        "outputId": "835569b3-c020-4090-e4f5-cbcf38ee1a91"
      },
      "execution_count": 19,
      "outputs": [
        {
          "output_type": "stream",
          "name": "stdout",
          "text": [
            "♥️ ♥️ ♥️ ♥️ ♥️ ♥️ ♥️ ♥️ ♥️ ♥️ \n",
            "♥️                 ♥️ \n",
            "♥️                 ♥️ \n",
            "♥️                 ♥️ \n",
            "♥️                 ♥️ \n",
            "♥️                 ♥️ \n",
            "♥️                 ♥️ \n",
            "♥️                 ♥️ \n",
            "♥️                 ♥️ \n",
            "♥️ ♥️ ♥️ ♥️ ♥️ ♥️ ♥️ ♥️ ♥️ ♥️ \n"
          ]
        }
      ]
    },
    {
      "cell_type": "code",
      "source": [
        "num = 7\n",
        "for i in range(0,num):\n",
        "  for j in range(0,num-i-1):\n",
        "      print(\" \",end=\" \")\n",
        "  for j in range(0,i*2+1):\n",
        "      print(\"*\",end=\" \")\n",
        "  print()"
      ],
      "metadata": {
        "colab": {
          "base_uri": "https://localhost:8080/"
        },
        "id": "_ttpl-b0Nztz",
        "outputId": "c34c67ef-a0fe-44e3-afa7-1b53233eff1a"
      },
      "execution_count": 28,
      "outputs": [
        {
          "output_type": "stream",
          "name": "stdout",
          "text": [
            "            * \n",
            "          * * * \n",
            "        * * * * * \n",
            "      * * * * * * * \n",
            "    * * * * * * * * * \n",
            "  * * * * * * * * * * * \n",
            "* * * * * * * * * * * * * \n"
          ]
        }
      ]
    },
    {
      "cell_type": "code",
      "source": [
        "num = 7\n",
        "for i in range(0,num):\n",
        "  for j in range(0,num-i-1):\n",
        "      print(\" \",end=\" \")\n",
        "  for j in range(0,i*2+++1):\n",
        "      print(chr(97+j),end=\" \")\n",
        "  print()"
      ],
      "metadata": {
        "colab": {
          "base_uri": "https://localhost:8080/"
        },
        "id": "tUertZG-QAXs",
        "outputId": "fe2e87f8-2db8-4a83-b390-7242cc37f55f"
      },
      "execution_count": 43,
      "outputs": [
        {
          "output_type": "stream",
          "name": "stdout",
          "text": [
            "            a \n",
            "          a b c \n",
            "        a b c d e \n",
            "      a b c d e f g \n",
            "    a b c d e f g h i \n",
            "  a b c d e f g h i j k \n",
            "a b c d e f g h i j k l m \n"
          ]
        }
      ]
    },
    {
      "cell_type": "code",
      "source": [
        "num = 7\n",
        "for i in range(0,num):\n",
        "  for j in range(0,num-i-1):\n",
        "      print(\" \",end=\" \")\n",
        "  for j in range(0,i*2+++1):\n",
        "      print(\"♥️\",end=\" \")\n",
        "  print()\n",
        "for i in range(0,num):\n",
        "  for j in range(0,i):\n",
        "      print(\" \",end=\" \")\n",
        "  for j in range(0,(num-i)*2-1):\n",
        "      print(\"♥️\",end=\" \")\n",
        "  print()"
      ],
      "metadata": {
        "colab": {
          "base_uri": "https://localhost:8080/"
        },
        "id": "fuycR2a6RVP8",
        "outputId": "9f71e34d-8772-460a-e2ee-901c45756d22"
      },
      "execution_count": 56,
      "outputs": [
        {
          "output_type": "stream",
          "name": "stdout",
          "text": [
            "            ♥️ \n",
            "          ♥️ ♥️ ♥️ \n",
            "        ♥️ ♥️ ♥️ ♥️ ♥️ \n",
            "      ♥️ ♥️ ♥️ ♥️ ♥️ ♥️ ♥️ \n",
            "    ♥️ ♥️ ♥️ ♥️ ♥️ ♥️ ♥️ ♥️ ♥️ \n",
            "  ♥️ ♥️ ♥️ ♥️ ♥️ ♥️ ♥️ ♥️ ♥️ ♥️ ♥️ \n",
            "♥️ ♥️ ♥️ ♥️ ♥️ ♥️ ♥️ ♥️ ♥️ ♥️ ♥️ ♥️ ♥️ \n",
            "♥️ ♥️ ♥️ ♥️ ♥️ ♥️ ♥️ ♥️ ♥️ ♥️ ♥️ ♥️ ♥️ \n",
            "  ♥️ ♥️ ♥️ ♥️ ♥️ ♥️ ♥️ ♥️ ♥️ ♥️ ♥️ \n",
            "    ♥️ ♥️ ♥️ ♥️ ♥️ ♥️ ♥️ ♥️ ♥️ \n",
            "      ♥️ ♥️ ♥️ ♥️ ♥️ ♥️ ♥️ \n",
            "        ♥️ ♥️ ♥️ ♥️ ♥️ \n",
            "          ♥️ ♥️ ♥️ \n",
            "            ♥️ \n"
          ]
        }
      ]
    },
    {
      "cell_type": "code",
      "source": [
        "def Example(roll_number,name,section,department,college) :\n",
        "  print(f\"My name is {name}, i'm studying {department} in {college} college. My roll_number is {roll_number} and section is {section}\")\n",
        "Example(101,\"vinayak\",\"A\",\"BCA\",\"KLE\")"
      ],
      "metadata": {
        "colab": {
          "base_uri": "https://localhost:8080/"
        },
        "id": "Jmds9LzihnkU",
        "outputId": "470e8245-71cc-49d3-a855-fe8594b19230"
      },
      "execution_count": 101,
      "outputs": [
        {
          "output_type": "stream",
          "name": "stdout",
          "text": [
            "My name is vinayak, i'm studying BCA in KLE college. My roll_number is 101 and section is A\n"
          ]
        }
      ]
    },
    {
      "cell_type": "code",
      "source": [
        "def fun(name,game,time):\n",
        "  print(f\"I'm {name};i'm playing {game} at {time} time\")\n",
        "fun(time = \"Evening\",name = \"Vinayak\",game = \"free fire\")"
      ],
      "metadata": {
        "colab": {
          "base_uri": "https://localhost:8080/"
        },
        "id": "zukOHbpIjijl",
        "outputId": "bc7a175c-3090-4e01-e83a-e67a9c1383fd"
      },
      "execution_count": 110,
      "outputs": [
        {
          "output_type": "stream",
          "name": "stdout",
          "text": [
            "I'm Vinayak;i'm playing free fire at Evening time\n"
          ]
        }
      ]
    },
    {
      "cell_type": "code",
      "source": [
        "def Laptop(name = \"Lenovo\"):\n",
        "  print(f\"My laptop name is :\",name)\n",
        "Laptop(\"dell\")\n",
        "Laptop(\"hp\")\n",
        "Laptop()\n",
        "Laptop(\"asus\")"
      ],
      "metadata": {
        "colab": {
          "base_uri": "https://localhost:8080/"
        },
        "id": "00yNlN5SlPW_",
        "outputId": "2ec48fe5-2043-4ee2-ec4d-cc09f595c74e"
      },
      "execution_count": 111,
      "outputs": [
        {
          "output_type": "stream",
          "name": "stdout",
          "text": [
            "My laptop name is : dell\n",
            "My laptop name is : hp\n",
            "My laptop name is : Lenovo\n",
            "My laptop name is : asus\n"
          ]
        }
      ]
    }
  ],
  "metadata": {
    "colab": {
      "provenance": []
    },
    "kernelspec": {
      "display_name": "Python 3",
      "name": "python3"
    },
    "language_info": {
      "name": "python"
    }
  },
  "nbformat": 4,
  "nbformat_minor": 0
}