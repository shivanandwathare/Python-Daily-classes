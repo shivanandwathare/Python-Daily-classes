{
  "cells": [
    {
      "cell_type": "code",
      "execution_count": null,
      "metadata": {
        "colab": {
          "base_uri": "https://localhost:8080/"
        },
        "id": "tKdl8Q6wRnd8",
        "outputId": "1321b6f3-940a-4bbe-bd1b-6c2b13756aef"
      },
      "outputs": [
        {
          "name": "stdout",
          "output_type": "stream",
          "text": [
            "Good Morning 18\n"
          ]
        }
      ],
      "source": [
        "a,b,c=\"Good\",\"Morning\",18\n",
        "print(a, b, c)"
      ]
    },
    {
      "cell_type": "code",
      "execution_count": null,
      "metadata": {
        "colab": {
          "base_uri": "https://localhost:8080/"
        },
        "id": "qPyI5ndbR3lp",
        "outputId": "024e17bd-b39c-4d97-95fd-2af1cb94036e"
      },
      "outputs": [
        {
          "name": "stdout",
          "output_type": "stream",
          "text": [
            "Hi, Good Morning, I'M Vinayak i'm studying BCA in Bk college at chikkodi, my roll number is 171\n"
          ]
        }
      ],
      "source": [
        "Name, College, Degree, Roll= \"Vinayak\",\"Bk\", \"BCA\",171\n",
        "print(\"Hi, Good Morning, I'M\",Name,\"i'm studying\",Degree,\"in\",College,\"college at chikkodi, my roll number is\",Roll)"
      ]
    },
    {
      "cell_type": "code",
      "execution_count": null,
      "metadata": {
        "colab": {
          "base_uri": "https://localhost:8080/"
        },
        "id": "qqHW3RjDXkOU",
        "outputId": "aaaf8ec4-42ea-4e83-e995-160cc22e23de"
      },
      "outputs": [
        {
          "name": "stdout",
          "output_type": "stream",
          "text": [
            "College 25 ('College', 25)\n"
          ]
        }
      ],
      "source": [
        "a=b,c=\"College\",25\n",
        "print(b,c,a)"
      ]
    },
    {
      "cell_type": "code",
      "execution_count": null,
      "metadata": {
        "colab": {
          "base_uri": "https://localhost:8080/"
        },
        "id": "9RJsty9JR2l8",
        "outputId": "9e2ee0da-d6ee-4328-eba8-f1f621e5c4ee"
      },
      "outputs": [
        {
          "name": "stdout",
          "output_type": "stream",
          "text": [
            "addition of 10 and 20 is 30\n"
          ]
        }
      ],
      "source": [
        "A=10\n",
        "B=20\n",
        "print(\"addition of\",A,\"and\",B,\"is\",A+B)"
      ]
    },
    {
      "cell_type": "code",
      "execution_count": null,
      "metadata": {
        "colab": {
          "base_uri": "https://localhost:8080/"
        },
        "id": "VzCG_TCYa-LI",
        "outputId": "a01eaa9a-4a1a-470a-8e87-1548e992308b"
      },
      "outputs": [
        {
          "name": "stdout",
          "output_type": "stream",
          "text": [
            "<class 'int'>\n"
          ]
        }
      ],
      "source": [
        " A=10\n",
        " print(type(A))"
      ]
    },
    {
      "cell_type": "code",
      "execution_count": null,
      "metadata": {
        "colab": {
          "base_uri": "https://localhost:8080/"
        },
        "id": "tG67jhwDdorI",
        "outputId": "3cf7f039-e430-4337-ed24-80025774dba9"
      },
      "outputs": [
        {
          "name": "stdout",
          "output_type": "stream",
          "text": [
            "<class 'int'>\n"
          ]
        }
      ],
      "source": [
        "x=10001\n",
        "print(type(x))"
      ]
    },
    {
      "cell_type": "code",
      "execution_count": null,
      "metadata": {
        "colab": {
          "base_uri": "https://localhost:8080/"
        },
        "id": "Fsog7tJie-ew",
        "outputId": "f924c798-b022-4f2b-cd33-58f34db7cc6e"
      },
      "outputs": [
        {
          "name": "stdout",
          "output_type": "stream",
          "text": [
            "<class 'float'>\n"
          ]
        }
      ],
      "source": [
        "number =-100.3333\n",
        "print(type(number))"
      ]
    },
    {
      "cell_type": "code",
      "execution_count": null,
      "metadata": {
        "colab": {
          "base_uri": "https://localhost:8080/"
        },
        "id": "3avswic-hBDc",
        "outputId": "8d8390ad-fdb0-4f24-a466-4b2db93d1065"
      },
      "outputs": [
        {
          "name": "stdout",
          "output_type": "stream",
          "text": [
            "<class 'str'>\n"
          ]
        }
      ],
      "source": [
        "yes= \"Program\"\n",
        "print(type(yes))"
      ]
    },
    {
      "cell_type": "code",
      "execution_count": null,
      "metadata": {
        "colab": {
          "base_uri": "https://localhost:8080/"
        },
        "id": "EXZy7Z6HiZxX",
        "outputId": "87325beb-28d6-4fad-e9de-65e798c0770b"
      },
      "outputs": [
        {
          "name": "stdout",
          "output_type": "stream",
          "text": [
            "<class 'bool'>\n"
          ]
        }
      ],
      "source": [
        "yes=True\n",
        "print (type(yes))"
      ]
    },
    {
      "cell_type": "code",
      "execution_count": null,
      "metadata": {
        "colab": {
          "base_uri": "https://localhost:8080/"
        },
        "id": "ob4D2v4ElM2w",
        "outputId": "32f1f242-ed83-4fc2-a25f-d52fd92e68de"
      },
      "outputs": [
        {
          "name": "stdout",
          "output_type": "stream",
          "text": [
            "<class 'list'>\n"
          ]
        }
      ],
      "source": [
        " roll=[1,2,3,4,5]\n",
        " print(type(roll))"
      ]
    },
    {
      "cell_type": "code",
      "execution_count": null,
      "metadata": {
        "colab": {
          "background_save": true,
          "base_uri": "https://localhost:8080/",
          "height": 106
        },
        "id": "Ak_TGAClmk4p",
        "outputId": "2675ce0e-e4f0-4927-e702-70aba23691ad"
      },
      "outputs": [
        {
          "ename": "SyntaxError",
          "evalue": "unexpected character after line continuation character (ipython-input-3809789374.py, line 3)",
          "output_type": "error",
          "traceback": [
            "\u001b[0;36m  File \u001b[0;32m\"/tmp/ipython-input-3809789374.py\"\u001b[0;36m, line \u001b[0;32m3\u001b[0m\n\u001b[0;31m    print((first + second)*5)\\n\u001b[0m\n\u001b[0m                              ^\u001b[0m\n\u001b[0;31mSyntaxError\u001b[0m\u001b[0;31m:\u001b[0m unexpected character after line continuation character\n"
          ]
        }
      ],
      "source": [
        "first=\"BKC\"\n",
        "second=\"COLLEGE\"\n",
        "print((first + second)*5)\"\\n\""
      ]
    },
    {
      "cell_type": "code",
      "source": [
        "name=\"python programming language\"\n",
        "print(name[5])\n",
        "print(name[-2])\n",
        "print(name[18])\n",
        "print(name[3:14])\n",
        "print(name[:20])\n",
        "print(name[6:])\n",
        "print(name[:-1])\n",
        "print(name[:20])\n",
        "print(name[6:])\n",
        "print(name[:-1])"
      ],
      "metadata": {
        "colab": {
          "base_uri": "https://localhost:8080/"
        },
        "id": "N0FU5dzLzWi_",
        "outputId": "c1538308-dc27-4cd5-b1d5-5f9424832f77"
      },
      "execution_count": 123,
      "outputs": [
        {
          "output_type": "stream",
          "name": "stdout",
          "text": [
            "n\n",
            "g\n",
            " \n",
            "hon program\n",
            "python programming l\n",
            " programming language\n",
            "python programming languag\n",
            "python programming l\n",
            " programming language\n",
            "python programming languag\n"
          ]
        }
      ]
    },
    {
      "cell_type": "code",
      "source": [
        "#hi Good Morning 'Single line comment'\n",
        "''"
      ],
      "metadata": {
        "id": "IqZUZIZK0w5Q"
      },
      "execution_count": null,
      "outputs": []
    },
    {
      "cell_type": "code",
      "source": [
        "roll=[1,2,3,4,5,6,7,8,9,10,11,12,13,14,15,16,17,18,19,20,21,22,23,24,25,26,27,28,29,30,31,32,33,34,35,36,37,38,39,40,41,42,43,44,45,46,47,48,49,50,51,52,53,54,55,56,57,58,59,60]\n",
        "print(roll)"
      ],
      "metadata": {
        "colab": {
          "base_uri": "https://localhost:8080/"
        },
        "id": "2JDoCx8L1C-e",
        "outputId": "d4837205-dea2-41c3-b6f9-96868f4e6a0b"
      },
      "execution_count": 131,
      "outputs": [
        {
          "output_type": "stream",
          "name": "stdout",
          "text": [
            "[1, 2, 3, 4, 5, 6, 7, 8, 9, 10, 11, 12, 13, 14, 15, 16, 17, 18, 19, 20, 21, 22, 23, 24, 25, 26, 27, 28, 29, 30, 31, 32, 33, 34, 35, 36, 37, 38, 39, 40, 41, 42, 43, 44, 45, 46, 47, 48, 49, 50, 51, 52, 53, 54, 55, 56, 57, 58, 59, 60]\n"
          ]
        }
      ]
    },
    {
      "cell_type": "code",
      "source": [
        "arr=[101,\"Ajit\",True,85.12]\n",
        "print(arr)"
      ],
      "metadata": {
        "colab": {
          "base_uri": "https://localhost:8080/"
        },
        "id": "l8KYclgC5WnZ",
        "outputId": "8f7434e3-41c3-44e5-fde6-522f235ddad5"
      },
      "execution_count": 135,
      "outputs": [
        {
          "output_type": "stream",
          "name": "stdout",
          "text": [
            "[101, 'Ajit', True, 85.12]\n"
          ]
        }
      ]
    },
    {
      "cell_type": "code",
      "source": [
        "details = [101]\n",
        "print(details)\n",
        "print(type(details))\n",
        "details.append(85.12)\n",
        "print(details)\n",
        "details.append(True)\n",
        "print(details)\n",
        "print(len(details))\n",
        "print(details.pop())\n",
        "print(details)\n",
        "details.append(\"ajit\")\n",
        "print(details)\n",
        "details.append(-99)\n",
        "print(details)\n",
        "print(len(details))\n",
        "print(details[2])\n",
        "print(details[-1])\n",
        "details.append(\"BKC COLLEGE\")\n",
        "print(details)\n",
        "details[3]=99\n",
        "print(details)\n",
        "print(details[2:4])\n",
        "details.insert(2,False)\n",
        "print(details)\n",
        "print(len(details))\n",
        "details.remove(False)\n",
        "print(details)\n",
        "print(len(details))\n",
        "print(details)\n",
        "print(details[::-1])\n",
        "print(details.count(101))\n",
        "print(details.clear())\n",
        "print(type(details))"
      ],
      "metadata": {
        "colab": {
          "base_uri": "https://localhost:8080/"
        },
        "id": "PHFvRedMXu-6",
        "outputId": "ef181ba1-3191-4755-a6a5-5829f3f79fdb"
      },
      "execution_count": 187,
      "outputs": [
        {
          "output_type": "stream",
          "name": "stdout",
          "text": [
            "[101]\n",
            "<class 'list'>\n",
            "[101, 85.12]\n",
            "[101, 85.12, True]\n",
            "3\n",
            "True\n",
            "[101, 85.12]\n",
            "[101, 85.12, 'ajit']\n",
            "[101, 85.12, 'ajit', -99]\n",
            "4\n",
            "ajit\n",
            "-99\n",
            "[101, 85.12, 'ajit', -99, 'BKC COLLEGE']\n",
            "[101, 85.12, 'ajit', 99, 'BKC COLLEGE']\n",
            "['ajit', 99]\n",
            "[101, 85.12, False, 'ajit', 99, 'BKC COLLEGE']\n",
            "6\n",
            "[101, 85.12, 'ajit', 99, 'BKC COLLEGE']\n",
            "5\n",
            "[101, 85.12, 'ajit', 99, 'BKC COLLEGE']\n",
            "['BKC COLLEGE', 99, 'ajit', 85.12, 101]\n",
            "1\n",
            "None\n",
            "<class 'list'>\n"
          ]
        }
      ]
    },
    {
      "cell_type": "code",
      "source": [
        "information=[108]\n",
        "print(information)\n",
        "print(type(information))\n",
        "information.append(\"ajit\")\n",
        "print(information)\n",
        "print(len(information))\n",
        "information.insert(2,False)\n",
        "print(information.pop())\n",
        "print([2])\n",
        "print(information[::-1])\n",
        "information.append(108)\n",
        "print(information)\n",
        "information.append(-99)"
      ],
      "metadata": {
        "colab": {
          "base_uri": "https://localhost:8080/"
        },
        "id": "Nr4r_SGfkhSL",
        "outputId": "b5f5ba05-51c5-4557-8725-1a98f7f675c4"
      },
      "execution_count": 205,
      "outputs": [
        {
          "output_type": "stream",
          "name": "stdout",
          "text": [
            "[108]\n",
            "<class 'list'>\n",
            "[108, 'ajit']\n",
            "2\n",
            "False\n",
            "[2]\n",
            "['ajit', 108]\n",
            "[108, 'ajit', 108]\n"
          ]
        }
      ]
    }
  ],
  "metadata": {
    "colab": {
      "provenance": []
    },
    "kernelspec": {
      "display_name": "Python 3",
      "name": "python3"
    },
    "language_info": {
      "name": "python"
    }
  },
  "nbformat": 4,
  "nbformat_minor": 0
}