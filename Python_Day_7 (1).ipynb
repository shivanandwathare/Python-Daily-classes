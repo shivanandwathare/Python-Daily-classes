{
  "nbformat": 4,
  "nbformat_minor": 0,
  "metadata": {
    "colab": {
      "provenance": []
    },
    "kernelspec": {
      "name": "python3",
      "display_name": "Python 3"
    },
    "language_info": {
      "name": "python"
    }
  },
  "cells": [
    {
      "cell_type": "code",
      "source": [
        "# Fibonacci series / number using function Recursion\n",
        "def fibo(num):\n",
        "  if num <= 1:\n",
        "     return num\n",
        "  else :\n",
        "      return fibo(num-1) + fibo(num-2)\n",
        "\n",
        "for i in range(11):\n",
        "  print(fibo(i),end=\" \")"
      ],
      "metadata": {
        "colab": {
          "base_uri": "https://localhost:8080/"
        },
        "id": "U7tJOjEfjplx",
        "outputId": "74cbaf70-2c0b-4a3b-e59b-b7b04a7161b8"
      },
      "execution_count": null,
      "outputs": [
        {
          "output_type": "stream",
          "name": "stdout",
          "text": [
            "0 1 1 2 3 5 8 13 21 34 55 "
          ]
        }
      ]
    },
    {
      "cell_type": "code",
      "execution_count": null,
      "metadata": {
        "colab": {
          "base_uri": "https://localhost:8080/"
        },
        "id": "sp8FUm8QNvPB",
        "outputId": "c697e317-a867-4526-e243-86321befd4cd"
      },
      "outputs": [
        {
          "output_type": "stream",
          "name": "stdout",
          "text": [
            "Total value is: 15\n",
            "Total value is: 18\n",
            "Total value is: 24\n"
          ]
        }
      ],
      "source": [
        "# 1) Example sum of numbers using *args\n",
        "def add (*args):\n",
        "    total = 0\n",
        "    for num in args:\n",
        "        total += num\n",
        "    print(\"Total value is:\",total)\n",
        "\n",
        "add(10,5)\n",
        "add(5,4,9)\n",
        "add(10,14)"
      ]
    },
    {
      "cell_type": "code",
      "source": [
        "def details(**kwarges):\n",
        "  for key,value in kwarges.items():\n",
        "   print(f\"my details is {key} and {value}\")\n",
        "\n",
        "details(course = \"BCA\",section='C',college=\"BK College\")\n",
        "details(place=\"chikodi\")\n",
        "details(roll_number=201,T_subject=7)\n",
        "details(Laptop = \"Lenovo\", O_S = \"WIndow\", year = 2022, version = \"windows 11\")"
      ],
      "metadata": {
        "colab": {
          "base_uri": "https://localhost:8080/"
        },
        "id": "XASvxCxAWYPT",
        "outputId": "c6861e74-df02-4220-9aec-1edaa43a5a1a"
      },
      "execution_count": null,
      "outputs": [
        {
          "output_type": "stream",
          "name": "stdout",
          "text": [
            "my details is course and BCA\n",
            "my details is section and C\n",
            "my details is college and BK College\n",
            "my details is place and chikodi\n",
            "my details is roll_number and 201\n",
            "my details is T_subject and 7\n",
            "my details is Laptop and Lenovo\n",
            "my details is O_S and WIndow\n",
            "my details is year and 2022\n",
            "my details is version and windows 11\n"
          ]
        }
      ]
    },
    {
      "cell_type": "code",
      "source": [
        "# Example of *args and**Kwargs\n",
        "def Show_values(*args,**Kwargs):\n",
        "  print(\"Positional Arguments represented in Tuple\",args)\n",
        "  print(\"Key - words Arguments represented in Dict \", Kwargs)\n",
        "Show_values(1,2,3,4,name=\"ajit\")\n",
        "Show_values(5,8,1,10,Class = \"BCA C section\",gender=\"male\")"
      ],
      "metadata": {
        "colab": {
          "base_uri": "https://localhost:8080/"
        },
        "id": "5_ZOpUnCXRgI",
        "outputId": "5973b286-5bb4-4893-be83-a00b077d0e32"
      },
      "execution_count": null,
      "outputs": [
        {
          "output_type": "stream",
          "name": "stdout",
          "text": [
            "Positional Arguments represented in Tuple (1, 2, 3, 4)\n",
            "Key - words Arguments represented in Dict  {'name': 'ajit'}\n",
            "Positional Arguments represented in Tuple (5, 8, 1, 10)\n",
            "Key - words Arguments represented in Dict  {'Class': 'BCA C section', 'gender': 'male'}\n"
          ]
        }
      ]
    },
    {
      "cell_type": "code",
      "source": [
        "fact = 1\n",
        "for i in range(1,6):\n",
        "  fact = fact * i\n",
        "print(fact)"
      ],
      "metadata": {
        "colab": {
          "base_uri": "https://localhost:8080/"
        },
        "id": "-epsSTjjYSay",
        "outputId": "04e6bcd5-d5a9-462b-e928-b531163eb235"
      },
      "execution_count": null,
      "outputs": [
        {
          "output_type": "stream",
          "name": "stdout",
          "text": [
            "120\n"
          ]
        }
      ]
    },
    {
      "cell_type": "code",
      "source": [
        "#Calculate factorial using a while loop\n",
        "num = 5\n",
        "fact = 1\n",
        "i = 1\n",
        "while i <= num:\n",
        "  fact = fact * i\n",
        "  i = i + 1\n",
        "print(f\"The factorial of {num} is: {fact}\")#"
      ],
      "metadata": {
        "colab": {
          "base_uri": "https://localhost:8080/"
        },
        "id": "-RihuxrIba0K",
        "outputId": "f81f008f-64fb-4524-fffb-c0b468652a66"
      },
      "execution_count": null,
      "outputs": [
        {
          "output_type": "stream",
          "name": "stdout",
          "text": [
            "The factorial of 5 is: 120\n"
          ]
        }
      ]
    },
    {
      "cell_type": "code",
      "source": [
        "def factorial(n):\n",
        "  \"\"\"Calculates the factorial of a non-negative integer.\"\"\"\n",
        "  if n == 0:\n",
        "    return 1\n",
        "  else:\n",
        "    fact = 1\n",
        "    for i in range(1, n + 1):\n",
        "      fact = fact * i\n",
        "    return fact\n",
        "\n",
        "# Example usage:\n",
        "num = 7\n",
        "result = factorial(num)\n",
        "print(f\"The factorial of {num} is: {result}\")"
      ],
      "metadata": {
        "colab": {
          "base_uri": "https://localhost:8080/"
        },
        "id": "d-Igvz-dd-6T",
        "outputId": "d0e33139-a960-442e-c1cf-4d2154691b10"
      },
      "execution_count": null,
      "outputs": [
        {
          "output_type": "stream",
          "name": "stdout",
          "text": [
            "The factorial of 7 is: 5040\n"
          ]
        }
      ]
    },
    {
      "cell_type": "code",
      "source": [
        "def fact(num) :\n",
        "  if num==0 or num==1:\n",
        "    return 1\n",
        "  else:\n",
        "    return num*fact(num-1)\n",
        "num=5\n",
        "result=fact(num)\n",
        "print(result)"
      ],
      "metadata": {
        "colab": {
          "base_uri": "https://localhost:8080/"
        },
        "id": "RpPG-TmqeBwK",
        "outputId": "4d6024b3-d0c9-447b-c2e8-9be6855ce200"
      },
      "execution_count": null,
      "outputs": [
        {
          "output_type": "stream",
          "name": "stdout",
          "text": [
            "120\n"
          ]
        }
      ]
    },
    {
      "cell_type": "code",
      "source": [
        "# Sum of natural numbers\n",
        "num = 10\n",
        "total = 0\n",
        "for i in range(1, num + 1):\n",
        "  total += i\n",
        "print(f\"The sum of natural numbers up to {num} is: {total}\")"
      ],
      "metadata": {
        "colab": {
          "base_uri": "https://localhost:8080/"
        },
        "id": "5eJy4HwBevSb",
        "outputId": "bafe1679-d748-4c0f-b54f-6c44c6bf7e31"
      },
      "execution_count": null,
      "outputs": [
        {
          "output_type": "stream",
          "name": "stdout",
          "text": [
            "The sum of natural numbers up to 10 is: 55\n"
          ]
        }
      ]
    },
    {
      "cell_type": "code",
      "source": [
        "def sum(num):\n",
        "  if num == 0 :\n",
        "    return num\n",
        "  else:\n",
        "      return num + sum(num-1)\n",
        "print(\"sum of N natural number is :\",sum(10))"
      ],
      "metadata": {
        "colab": {
          "base_uri": "https://localhost:8080/"
        },
        "id": "kv8MR5cQh840",
        "outputId": "1d8e89bb-29c5-4d68-9f98-8a4b47514568"
      },
      "execution_count": null,
      "outputs": [
        {
          "output_type": "stream",
          "name": "stdout",
          "text": [
            "sum of N natural number is : 55\n"
          ]
        }
      ]
    },
    {
      "cell_type": "code",
      "source": [
        "Name =\"Vasu\"\n",
        "print(Name[:4])"
      ],
      "metadata": {
        "colab": {
          "base_uri": "https://localhost:8080/"
        },
        "id": "gU3LNvR2jmdM",
        "outputId": "b366e713-a176-4fe8-eb07-200c228d38f1"
      },
      "execution_count": null,
      "outputs": [
        {
          "output_type": "stream",
          "name": "stdout",
          "text": [
            "Vasu\n"
          ]
        }
      ]
    },
    {
      "cell_type": "code",
      "source": [
        "class Fruit :\n",
        "  colour=\"orange\"\n",
        "  price=250\n",
        "  Teste=\"sweet\"\n",
        "  Shape=\"circle\"\n",
        "def juice(self):\n",
        "    print(\" \")\n",
        "orange= Fruit()\n",
        "print(orange.colour)\n"
      ],
      "metadata": {
        "colab": {
          "base_uri": "https://localhost:8080/"
        },
        "id": "X0-Lv7MCuS-S",
        "outputId": "1aaa6a22-8b0b-4b74-fa1d-09e42e11a5ff"
      },
      "execution_count": null,
      "outputs": [
        {
          "output_type": "stream",
          "name": "stdout",
          "text": [
            "orange\n"
          ]
        }
      ]
    },
    {
      "cell_type": "code",
      "source": [
        "class flower:\n",
        "  colour=\"pink\"\n",
        "  price=25\n",
        "  smell=\"nice\"\n",
        "  shape=\"circle\"\n",
        "  def decoration(self):\n",
        "    print(\"good\")\n",
        "rose=flower()\n",
        "print(\"rose colour is\",rose.colour)\n",
        "rose.decoration()\n",
        "print(\"rose price is\",rose.price)\n",
        "print(\"rose smell is\",rose.smell)\n",
        "print(\"rose shape is\",rose.shape)\n",
        "\n",
        "print(obj.colour)\n"
      ],
      "metadata": {
        "colab": {
          "base_uri": "https://localhost:8080/"
        },
        "id": "m64obpPQvIxN",
        "outputId": "71ab7d56-24ab-4882-80ff-81f39d22b003"
      },
      "execution_count": null,
      "outputs": [
        {
          "output_type": "stream",
          "name": "stdout",
          "text": [
            "rose colour is pink\n",
            "good\n",
            "rose price is 25\n",
            "rose smell is nice\n",
            "rose shape is circle\n",
            "pink\n"
          ]
        }
      ]
    },
    {
      "cell_type": "code",
      "source": [
        "class fan:\n",
        "  colour=\"black\"\n",
        "  price=2500\n",
        "  warrenty=\"2 years\"\n",
        "  c_name=\"bajaj\"\n",
        "  def start(self):\n",
        "    print(\"when click on button it'll start \")\n",
        "  def speed(self):\n",
        "    print (\"5 speed is there\")\n",
        "  def stop(self):\n",
        "    print(\"when click on off  button it'll stop\")\n",
        "\n",
        "obj = fan()\n",
        "print (obj.c_name + \" fan colour is \" + obj.colour)\n",
        "print (obj.c_name + \" fan price is \" + str(obj.price))\n",
        "print (obj.c_name + \" fan warrenty is \" + obj.warrenty)\n",
        "obj.stop()\n"
      ],
      "metadata": {
        "colab": {
          "base_uri": "https://localhost:8080/"
        },
        "id": "Av0NlGla1Ehr",
        "outputId": "269dfe3e-f380-4910-efb7-4b1985faffce"
      },
      "execution_count": null,
      "outputs": [
        {
          "output_type": "stream",
          "name": "stdout",
          "text": [
            "bajaj fan colour is black\n",
            "bajaj fan price is 2500\n",
            "bajaj fan warrenty is 2 years\n",
            "when click on off  button it'll stop\n"
          ]
        }
      ]
    },
    {
      "cell_type": "code",
      "source": [
        "# banking example\n",
        "\n",
        "class bank :\n",
        "  def __init__(self,balance) :\n",
        "    self.balance = balance\n",
        "\n",
        "  def deposit(self,amount) :\n",
        "     self.balance += amount\n",
        "\n",
        "  def withdrow(self,amount):\n",
        "      if amount <= self.balance :\n",
        "         self.balance -= amount\n",
        "         print(\"transaction successfully\")\n",
        "      else:\n",
        "         print(\"insufficient balance\")\n",
        "\n",
        "  def re_balance(self) :\n",
        "      return self.balance\n",
        "\n",
        "obj = bank(1000)\n",
        "print(obj.balance)\n",
        "obj.deposit(500)\n",
        "print(obj.balance)\n",
        "obj.withdrow(700)\n",
        "print(obj.re_balance())\n",
        "obj.deposit(1000)\n",
        "print(\"current total balance is \",obj.re_balance())\n",
        "obj.withdrow(2000)\n",
        "print(\"current total balance is \",obj.re_balance())\n",
        "print(1500,obj.withdrow(1500))\n",
        "print(\"current total balance is \",obj.re_balance())\n",
        "obj.deposit(100000)\n",
        "print(\"current total balance is \",obj.re_balance())\n"
      ],
      "metadata": {
        "colab": {
          "base_uri": "https://localhost:8080/"
        },
        "id": "dKI_1xdq6CeT",
        "outputId": "f3c91a0a-aae9-4bb6-b096-14e7a716db57"
      },
      "execution_count": null,
      "outputs": [
        {
          "output_type": "stream",
          "name": "stdout",
          "text": [
            "1000\n",
            "1500\n",
            "transaction successfully\n",
            "800\n",
            "current total balance is  1800\n",
            "insufficient balance\n",
            "current total balance is  1800\n",
            "transaction successfully\n",
            "1500 None\n",
            "current total balance is  300\n",
            "current total balance is  100300\n"
          ]
        }
      ]
    },
    {
      "cell_type": "code",
      "source": [
        "# Encapsulation Example\n",
        "class student :\n",
        "  def __init__(self,name,marks,place):\n",
        "    self._name = name\n",
        "    self._marks = marks\n",
        "    self.place = place\n",
        "  def set_method(self,name,marks):\n",
        "    self.name = name       #Pravet variable\n",
        "    self.marks = marks     #public variable\n",
        "\n",
        "  def get_name(self):\n",
        "    return self._name\n",
        "\n",
        "  def get_marks(self):\n",
        "    return self._marks\n",
        "\n",
        "obj = student(\"vinayak\",85,\"chikodi\")\n",
        "print(obj.get_name())\n",
        "print(obj.get_marks())\n",
        "print(obj.place)\n"
      ],
      "metadata": {
        "colab": {
          "base_uri": "https://localhost:8080/"
        },
        "id": "SwLH86OC_eLp",
        "outputId": "5909959a-3ad7-47a9-f95b-7d0f41b261d1"
      },
      "execution_count": null,
      "outputs": [
        {
          "output_type": "stream",
          "name": "stdout",
          "text": [
            "vinayak\n",
            "85\n",
            "chikodi\n"
          ]
        }
      ]
    },
    {
      "cell_type": "code",
      "source": [
        "# 1) singal Inheritance\n",
        "class Parent :\n",
        "    def work(self):\n",
        "        print(\"my parents are doing farming\")\n",
        "class children(Parent):\n",
        "    def study(self):\n",
        "        print(\"I'm studying BCA in bk college\")\n",
        "ch = children()\n",
        "ch.work()\n",
        "ch.study()"
      ],
      "metadata": {
        "id": "i5ZcQYT0AHmQ",
        "colab": {
          "base_uri": "https://localhost:8080/"
        },
        "outputId": "74582810-e7fe-42a4-d363-5620ed45ef62"
      },
      "execution_count": 180,
      "outputs": [
        {
          "output_type": "stream",
          "name": "stdout",
          "text": [
            "my parents are doing farming\n",
            "I'm studying BCA in bk college\n"
          ]
        }
      ]
    },
    {
      "cell_type": "code",
      "source": [
        "# multiple Inheritance:\n",
        "class Father :\n",
        "    def Hi(self):\n",
        "        print(\"My father is my first hero\")\n",
        "class mother :\n",
        "    def Hello(self):\n",
        "        print(\"My father is my House wife\")\n",
        "class child(Father, mother):\n",
        "    def Bye(self):\n",
        "        print(\"I'm working as a Freelancer\")\n",
        "\n",
        "obj = child()\n",
        "obj.Hi()\n",
        "obj.Hello()\n",
        "obj.Bye()\n",
        ""
      ],
      "metadata": {
        "colab": {
          "base_uri": "https://localhost:8080/"
        },
        "id": "1yQxq0KsI2mB",
        "outputId": "4b0248d7-e9fa-4fb9-bd33-692a6c9bb996"
      },
      "execution_count": 182,
      "outputs": [
        {
          "output_type": "stream",
          "name": "stdout",
          "text": [
            "My father is my first hero\n",
            "My father is my House wife\n",
            "I'm working as a Freelancer\n"
          ]
        }
      ]
    },
    {
      "cell_type": "code",
      "source": [
        "# Multi Level Inheritance\n",
        "class Grand_parents :\n",
        "  def Formar(self):\n",
        "      print(\"✅✅✅✅✅\")\n",
        "\n",
        "class Parents(Grand_parents) :\n",
        "  def House(self):\n",
        "      print(\"😼😼😼😼\")\n",
        "\n",
        "class Child (Parents):\n",
        "  def Jolly(self):\n",
        "      print(\"🌱🌱🌱🌱\")\n",
        "\n",
        "Obj = Child()\n",
        "Obj.House()\n",
        "Obj.Jolly()\n",
        "Obj.Formar()"
      ],
      "metadata": {
        "colab": {
          "base_uri": "https://localhost:8080/"
        },
        "id": "up01gZjAPGNJ",
        "outputId": "4d0e06b8-3043-41cb-d572-21b634a7d28a"
      },
      "execution_count": 191,
      "outputs": [
        {
          "output_type": "stream",
          "name": "stdout",
          "text": [
            "😼😼😼😼\n",
            "🌱🌱🌱🌱\n",
            "✅✅✅✅✅\n"
          ]
        }
      ]
    },
    {
      "cell_type": "code",
      "source": [
        "# Hirarchy Inheritance\n",
        "class Parents :\n",
        "  def Business(self):\n",
        "    print(\"My parents are doing business\")\n",
        "\n",
        "class Child1(Parents) :\n",
        "  def Study(self):\n",
        "    print(\"I'm Studying BCA \")\n",
        "\n",
        "class Child2(Parents) :\n",
        "  def Study(self):\n",
        "    print(\"I'm Studying PUC \")\n",
        "\n",
        "Ch = Child1()\n",
        "Ch.Business()\n",
        "Ch.Study()\n",
        "\n",
        "Obj = Child2()\n",
        "Obj.Business()\n",
        "Obj.Study()\n"
      ],
      "metadata": {
        "id": "8mqNerYmQWtc",
        "outputId": "d216d477-81d0-4cae-b164-81807a52764a",
        "colab": {
          "base_uri": "https://localhost:8080/"
        }
      },
      "execution_count": 192,
      "outputs": [
        {
          "output_type": "stream",
          "name": "stdout",
          "text": [
            "My parents are doing business\n",
            "I'm Studying BCA \n",
            "My parents are doing business\n",
            "I'm Studying PUC \n"
          ]
        }
      ]
    }
  ]
}