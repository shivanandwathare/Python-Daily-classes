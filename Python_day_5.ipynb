{
  "nbformat": 4,
  "nbformat_minor": 0,
  "metadata": {
    "colab": {
      "provenance": []
    },
    "kernelspec": {
      "name": "python3",
      "display_name": "Python 3"
    },
    "language_info": {
      "name": "python"
    }
  },
  "cells": [
    {
      "cell_type": "code",
      "execution_count": null,
      "metadata": {
        "colab": {
          "base_uri": "https://localhost:8080/"
        },
        "id": "L-Qcs7p9A9x6",
        "outputId": "9c298e5f-26dd-4f2a-a345-6b8310c03cb1"
      },
      "outputs": [
        {
          "output_type": "stream",
          "name": "stdout",
          "text": [
            "Enter a number: 0\n",
            "Zero\n"
          ]
        }
      ],
      "source": [
        "num  = int(input(\"Enter a number: \"))\n",
        "if num >=0 :\n",
        "  if num == 0:\n",
        "    print(\"Zero\")\n",
        "  else:\n",
        "    print(\"Positive number\")\n",
        "else:\n",
        "  print(\"Negative number\")"
      ]
    },
    {
      "cell_type": "code",
      "source": [
        "match = input(\"Enter a character: \")\n",
        "case = match.lower()\n",
        "if case == 'a' or case == 'e' or case == 'i' or case == 'o' or case == 'u':\n",
        "  print(\"Vowel\")"
      ],
      "metadata": {
        "colab": {
          "base_uri": "https://localhost:8080/"
        },
        "id": "y9oiO0NkCWJP",
        "outputId": "6e11fc78-3aca-4bd5-add2-91bb888c6a97"
      },
      "execution_count": null,
      "outputs": [
        {
          "name": "stdout",
          "output_type": "stream",
          "text": [
            "Enter a character: -5\n"
          ]
        }
      ]
    },
    {
      "cell_type": "code",
      "source": [
        "x, y =10,20\n",
        "option=input(\"Enter your choice option\")\n",
        "match option:\n",
        " case'+':\n",
        "    print(\"SUM OF VALUES\", x + y)\n",
        " case'-':\n",
        "    print(\"SUBRACTION OF VALUES\", x-y)\n",
        " case'*':\n",
        "    print(\"MULTIPLICATION OF VALUES\", x*y)\n",
        " case'/':\n",
        "    print(\"DIVISION OF VALUES\", x/y)\n",
        " case'%':\n",
        "    print(\" MODULUS OF VALUES\", x%y)\n",
        " case'!=':\n",
        "    print(\"NOT EQUAL TO VALUES\", x!=y)\n",
        " case _:\n",
        "    print(\"INVALID CHOICE\")"
      ],
      "metadata": {
        "colab": {
          "base_uri": "https://localhost:8080/"
        },
        "id": "Nq830DvREn8G",
        "outputId": "bdfc6764-8f20-4e66-80ca-557e998dab24"
      },
      "execution_count": null,
      "outputs": [
        {
          "output_type": "stream",
          "name": "stdout",
          "text": [
            "Enter your choice option+\n",
            "SUM OF VALUES 30\n"
          ]
        }
      ]
    },
    {
      "cell_type": "code",
      "source": [
        "option=int(input(\"Enter your choice option\"))\n",
        "match option:\n",
        " case 1:\n",
        "    print(\"Monday\")\n",
        " case 2:\n",
        "    print(\"Tuesday\")\n",
        " case 3:\n",
        "    print(\"Wednesday\")\n",
        " case 4:\n",
        "    print(\"Thursday\")\n",
        " case 5:\n",
        "    print(\"Friday\")\n",
        " case 6:\n",
        "    print(\"Saturday\")\n",
        " case 7:\n",
        "    print(\"Sunday\")\n",
        " case _:\n",
        "    print(\"INVALID CHOICE\")"
      ],
      "metadata": {
        "colab": {
          "base_uri": "https://localhost:8080/"
        },
        "id": "D7PRHAdoKpsl",
        "outputId": "29258ba3-546d-43c1-d213-cc0a72bff494"
      },
      "execution_count": null,
      "outputs": [
        {
          "output_type": "stream",
          "name": "stdout",
          "text": [
            "Enter your choice option9\n",
            "INVALID CHOICE\n"
          ]
        }
      ]
    },
    {
      "cell_type": "code",
      "source": [
        "option=int(input(\"Enter your choice option\"))\n",
        "match option:\n",
        " case 1:\n",
        "    print(\"January\")\n",
        " case 2:\n",
        "    print(\"February\")\n",
        " case 3:\n",
        "    print(\"March\")\n",
        " case 4:\n",
        "    print(\"april\")\n",
        " case 5:\n",
        "    print(\"May\")\n",
        " case 6:\n",
        "    print(\"June\")\n",
        " case 7:\n",
        "    print(\"July\")\n",
        " case 8:\n",
        "    print(\"August\")\n",
        " case 9:\n",
        "    print(\"September\")\n",
        " case 10:\n",
        "    print(\"October\")\n",
        " case 11:\n",
        "    print(\"November\")\n",
        " case 12:\n",
        "    print(\"December\")\n",
        " case _:\n",
        "    print(\"invalid choice\")\n"
      ],
      "metadata": {
        "colab": {
          "base_uri": "https://localhost:8080/"
        },
        "id": "_1Ie626iIVwl",
        "outputId": "2fbff59d-80c3-40b4-ca03-3fed5bc0d62e"
      },
      "execution_count": null,
      "outputs": [
        {
          "output_type": "stream",
          "name": "stdout",
          "text": [
            "Enter your choice option2\n",
            "February\n"
          ]
        }
      ]
    },
    {
      "cell_type": "code",
      "source": [
        "i = 1\n",
        "while i <= 60 :\n",
        "  print(i,end=\" \")\n",
        "  i+=1\n",
        "\n"
      ],
      "metadata": {
        "colab": {
          "base_uri": "https://localhost:8080/"
        },
        "id": "Tu80mcWeO4nr",
        "outputId": "4ab01980-4976-4747-f57c-d23f930274ba"
      },
      "execution_count": null,
      "outputs": [
        {
          "output_type": "stream",
          "name": "stdout",
          "text": [
            "1 2 3 4 5 6 7 8 9 10 11 12 13 14 15 16 17 18 19 20 21 22 23 24 25 26 27 28 29 30 31 32 33 34 35 36 37 38 39 40 41 42 43 44 45 46 47 48 49 50 51 52 53 54 55 56 57 58 59 60 "
          ]
        }
      ]
    },
    {
      "cell_type": "code",
      "source": [
        "#sum ofn natural numbers\n",
        "i=1\n",
        "add=0\n",
        "while i<=10:\n",
        "  add=add+i\n",
        "  i=i+1\n",
        "print(\"sum of n natural number is\",add)\n",
        "\n"
      ],
      "metadata": {
        "colab": {
          "base_uri": "https://localhost:8080/"
        },
        "id": "pU6CGcH2Sl4h",
        "outputId": "c7a61285-a16b-4a42-c2a2-ee9a20e71b1a"
      },
      "execution_count": null,
      "outputs": [
        {
          "output_type": "stream",
          "name": "stdout",
          "text": [
            "sum of n natural number is 55\n"
          ]
        }
      ]
    },
    {
      "cell_type": "code",
      "source": [
        "# table of 5\n",
        "i=1\n",
        "num=5\n",
        "while i<=10:\n",
        " print(\"5*\",i,\"=\",num*i)\n",
        " i = i + 1"
      ],
      "metadata": {
        "colab": {
          "base_uri": "https://localhost:8080/"
        },
        "id": "t1m-VFIHVMkQ",
        "outputId": "2afc32e0-933a-4bf7-c8de-dc00c96e4294"
      },
      "execution_count": null,
      "outputs": [
        {
          "output_type": "stream",
          "name": "stdout",
          "text": [
            "5* 1 = 5\n",
            "5* 2 = 10\n",
            "5* 3 = 15\n",
            "5* 4 = 20\n",
            "5* 5 = 25\n",
            "5* 6 = 30\n",
            "5* 7 = 35\n",
            "5* 8 = 40\n",
            "5* 9 = 45\n",
            "5* 10 = 50\n"
          ]
        }
      ]
    },
    {
      "cell_type": "code",
      "source": [
        "num = 153\n",
        "rem = 0\n",
        "sum = 0\n",
        "temp = num\n",
        "while num > 0:\n",
        "   rem = num % 10\n",
        "   sum = sum + rem * rem * rem\n",
        "   num = num //10\n",
        "if temp == sum :\n",
        "  print(\"armstrong number\")\n",
        "else:\n",
        "  print(\"not armstrong number\")"
      ],
      "metadata": {
        "colab": {
          "base_uri": "https://localhost:8080/"
        },
        "id": "fquXEUPtY_8P",
        "outputId": "06454447-2797-44a7-b8cb-741dc832624d"
      },
      "execution_count": null,
      "outputs": [
        {
          "output_type": "stream",
          "name": "stdout",
          "text": [
            "armstrong number\n"
          ]
        }
      ]
    },
    {
      "cell_type": "code",
      "source": [
        "num = 1234\n",
        "rem = 0\n",
        "sum = 0\n",
        "temp = num\n",
        "while num > 0:\n",
        "    rem = num % 10\n",
        "    rev = rev * 10 + rem\n",
        "    num = num // 10\n",
        "if temp == rev :\n",
        "       print(\"palindrome number\")\n",
        "else:\n",
        "       print(\"Not palindrome number\")"
      ],
      "metadata": {
        "colab": {
          "base_uri": "https://localhost:8080/"
        },
        "id": "-y4oEsiAiHB2",
        "outputId": "f1df20a7-31f0-437c-81ad-f0fb29c2dd51"
      },
      "execution_count": null,
      "outputs": [
        {
          "output_type": "stream",
          "name": "stdout",
          "text": [
            "Not palindrome number\n"
          ]
        }
      ]
    },
    {
      "cell_type": "code",
      "source": [
        "i=1\n",
        "while i <=100:\n",
        "  print(i,end=\" \")\n",
        "  i+=2"
      ],
      "metadata": {
        "colab": {
          "base_uri": "https://localhost:8080/"
        },
        "id": "DN6BeOOWlFMO",
        "outputId": "a45b3e57-2e2d-4868-aecb-0ca0eba9c757"
      },
      "execution_count": null,
      "outputs": [
        {
          "output_type": "stream",
          "name": "stdout",
          "text": [
            "1 3 5 7 9 11 13 15 17 19 21 23 25 27 29 31 33 35 37 39 41 43 45 47 49 51 53 55 57 59 61 63 65 67 69 71 73 75 77 79 81 83 85 87 89 91 93 95 97 99 "
          ]
        }
      ]
    },
    {
      "cell_type": "code",
      "source": [
        "num, a, b = 10, 0, 1\n",
        "i = 0\n",
        "while i <= num :\n",
        "  print(a,end= \" \")\n",
        "  a,b = b, a+b\n",
        "  i+=1"
      ],
      "metadata": {
        "colab": {
          "base_uri": "https://localhost:8080/"
        },
        "id": "VIBugDBsl3Gw",
        "outputId": "ce6c84c3-5479-4fb3-fa0b-e997626f99dc"
      },
      "execution_count": null,
      "outputs": [
        {
          "output_type": "stream",
          "name": "stdout",
          "text": [
            "0 1 1 2 3 5 8 13 21 34 55 "
          ]
        }
      ]
    },
    {
      "cell_type": "code",
      "source": [
        "num = int(input(\"Enter a number value:\"))\n",
        "count = 0\n",
        "i = 1\n",
        "while i <= num :\n",
        "  if num % i == 0 :\n",
        "    count = count + 1\n",
        "  i = i + 1\n",
        "if count == 2 :\n",
        "  print(num,\"is a prime number\")\n",
        "else :\n",
        "  print(num,\"is not a prime number\")"
      ],
      "metadata": {
        "colab": {
          "base_uri": "https://localhost:8080/"
        },
        "id": "_3m64JDulzgB",
        "outputId": "095d348a-7671-4498-e38e-e00a08c4ebfe"
      },
      "execution_count": null,
      "outputs": [
        {
          "output_type": "stream",
          "name": "stdout",
          "text": [
            "Enter a number value:7\n",
            "7 is a prime number\n"
          ]
        }
      ]
    },
    {
      "cell_type": "code",
      "source": [
        "num = 10\n",
        "i = 0\n",
        "while num >= i :\n",
        "  print(num, end= \" \")\n",
        "  num-=1"
      ],
      "metadata": {
        "colab": {
          "base_uri": "https://localhost:8080/"
        },
        "id": "Oxy8AG7XoPvZ",
        "outputId": "9c5d3e87-2f60-4b65-d0a1-3e0f7dfa03b2"
      },
      "execution_count": null,
      "outputs": [
        {
          "output_type": "stream",
          "name": "stdout",
          "text": [
            "10 9 8 7 6 5 4 3 2 1 0 "
          ]
        }
      ]
    },
    {
      "cell_type": "code",
      "source": [
        "i= 10\n",
        "while i <=1280:\n",
        "  print(i,end=\" \")\n",
        "  i*=2"
      ],
      "metadata": {
        "colab": {
          "base_uri": "https://localhost:8080/"
        },
        "id": "WyB_w0V9orxP",
        "outputId": "869ca9eb-a872-4ee3-dad1-a0cb6775709a"
      },
      "execution_count": null,
      "outputs": [
        {
          "output_type": "stream",
          "name": "stdout",
          "text": [
            "10 20 40 80 160 320 640 1280 "
          ]
        }
      ]
    },
    {
      "cell_type": "code",
      "source": [
        "colour = ['blue','red','pink','black']\n",
        "print(type(colour))\n",
        "\n",
        "for i in colour :\n",
        "  print(i)"
      ],
      "metadata": {
        "colab": {
          "base_uri": "https://localhost:8080/"
        },
        "id": "5yD-wp2Z-TNI",
        "outputId": "3c5c2943-e906-47b2-8531-9ca334c20c16"
      },
      "execution_count": null,
      "outputs": [
        {
          "output_type": "stream",
          "name": "stdout",
          "text": [
            "<class 'list'>\n",
            "blue\n",
            "red\n",
            "pink\n",
            "black\n"
          ]
        }
      ]
    },
    {
      "cell_type": "code",
      "source": [
        "number = {1,2,3,4,5,6,7,8,8,9}\n",
        "for i  in number:\n",
        "    print(i)\n"
      ],
      "metadata": {
        "colab": {
          "base_uri": "https://localhost:8080/"
        },
        "id": "cNUuiMQWAILP",
        "outputId": "38e98673-7eab-493d-ce19-e379e4bb4ce0"
      },
      "execution_count": null,
      "outputs": [
        {
          "output_type": "stream",
          "name": "stdout",
          "text": [
            "1\n",
            "2\n",
            "3\n",
            "4\n",
            "5\n",
            "6\n",
            "7\n",
            "8\n",
            "9\n"
          ]
        }
      ]
    },
    {
      "cell_type": "code",
      "source": [
        "Name = \"KLE BK BCA COLLEGE IN CHIKODI\"\n",
        "rev = \"\"\n",
        "for i in Name :\n",
        "    rev = i + rev\n",
        "print(rev)"
      ],
      "metadata": {
        "id": "_jKwyLX1Av4-"
      },
      "execution_count": null,
      "outputs": []
    },
    {
      "cell_type": "code",
      "source": [
        "for i in range(1,10+1,2):\n",
        "  print(i,end=\"  \")\n",
        ""
      ],
      "metadata": {
        "id": "sK5mzBvOIQNm"
      },
      "execution_count": null,
      "outputs": []
    },
    {
      "cell_type": "code",
      "source": [
        "sum=0\n",
        "for i in range(1,11) :\n",
        "  sum+=i\n",
        "  print(\"sum of N Natural numbers is \",sum)"
      ],
      "metadata": {
        "colab": {
          "base_uri": "https://localhost:8080/"
        },
        "id": "rfPFuYwMNtWk",
        "outputId": "6b01b9d0-2af7-4bf8-9270-6b85c5246781"
      },
      "execution_count": 193,
      "outputs": [
        {
          "output_type": "stream",
          "name": "stdout",
          "text": [
            "sum of N Natural numbers is  1\n",
            "sum of N Natural numbers is  3\n",
            "sum of N Natural numbers is  6\n",
            "sum of N Natural numbers is  10\n",
            "sum of N Natural numbers is  15\n",
            "sum of N Natural numbers is  21\n",
            "sum of N Natural numbers is  28\n",
            "sum of N Natural numbers is  36\n",
            "sum of N Natural numbers is  45\n",
            "sum of N Natural numbers is  55\n"
          ]
        }
      ]
    },
    {
      "cell_type": "code",
      "source": [
        "# table of 4\n",
        "i=1\n",
        "num=4\n",
        "for i in range (1,11):\n",
        "   print(\"4*\",i,\"=\",num*i)"
      ],
      "metadata": {
        "colab": {
          "base_uri": "https://localhost:8080/"
        },
        "id": "g7k3ePwaONj1",
        "outputId": "75fcec8d-2695-4b03-8c61-05f36420690c"
      },
      "execution_count": 194,
      "outputs": [
        {
          "output_type": "stream",
          "name": "stdout",
          "text": [
            "4* 1 = 4\n",
            "4* 2 = 8\n",
            "4* 3 = 12\n",
            "4* 4 = 16\n",
            "4* 5 = 20\n",
            "4* 6 = 24\n",
            "4* 7 = 28\n",
            "4* 8 = 32\n",
            "4* 9 = 36\n",
            "4* 10 = 40\n"
          ]
        }
      ]
    },
    {
      "cell_type": "code",
      "source": [
        "# even number\n",
        "for i in range(2,101,2):\n",
        "  print(i,end=\" \")"
      ],
      "metadata": {
        "colab": {
          "base_uri": "https://localhost:8080/"
        },
        "id": "Nr83U4ubQDBE",
        "outputId": "0c5926bb-876e-496e-c8e3-0790ff8ec24b"
      },
      "execution_count": 197,
      "outputs": [
        {
          "output_type": "stream",
          "name": "stdout",
          "text": [
            "2 4 6 8 10 12 14 16 18 20 22 24 26 28 30 32 34 36 38 40 42 44 46 48 50 52 54 56 58 60 62 64 66 68 70 72 74 76 78 80 82 84 86 88 90 92 94 96 98 100 "
          ]
        }
      ]
    },
    {
      "cell_type": "code",
      "source": [
        "# factorial\n",
        "fact=1\n",
        "for i in range(1,6):\n",
        "  fact=fact*i\n",
        "print(\"factorial of 5 is\",fact)"
      ],
      "metadata": {
        "colab": {
          "base_uri": "https://localhost:8080/"
        },
        "id": "U930dD9JRVtV",
        "outputId": "72d08927-f786-44c6-9fe6-b62f92e47380"
      },
      "execution_count": 199,
      "outputs": [
        {
          "output_type": "stream",
          "name": "stdout",
          "text": [
            "factorial of 5 is 120\n"
          ]
        }
      ]
    },
    {
      "cell_type": "code",
      "source": [
        "# Fibonacci series using for loop\n",
        "num = 12\n",
        "a, b = 0, 1\n",
        "print(a, end=\" \")\n",
        "print(b, end=\" \")\n",
        "for i in range(2, num + 1):\n",
        "  c = a + b\n",
        "  print(c, end=\" \")\n",
        "  a = b\n",
        "  b = c"
      ],
      "metadata": {
        "colab": {
          "base_uri": "https://localhost:8080/"
        },
        "id": "42ibJC1XTT9j",
        "outputId": "ab689deb-45d4-45e5-b225-518085dd77d9"
      },
      "execution_count": 204,
      "outputs": [
        {
          "output_type": "stream",
          "name": "stdout",
          "text": [
            "0 1 1 2 3 5 8 13 21 34 55 89 144 "
          ]
        }
      ]
    }
  ]
}