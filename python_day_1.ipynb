{
  "nbformat": 4,
  "nbformat_minor": 0,
  "metadata": {
    "colab": {
      "provenance": []
    },
    "kernelspec": {
      "name": "python3",
      "display_name": "Python 3"
    },
    "language_info": {
      "name": "python"
    }
  },
  "cells": [
    {
      "cell_type": "code",
      "execution_count": 1,
      "metadata": {
        "colab": {
          "base_uri": "https://localhost:8080/"
        },
        "id": "BVkYAWFLPOvV",
        "outputId": "201c6eb8-3e15-468c-dde2-804235e89b82"
      },
      "outputs": [
        {
          "output_type": "stream",
          "name": "stdout",
          "text": [
            "hello world\n"
          ]
        }
      ],
      "source": [
        "print(\"hello world\")"
      ]
    },
    {
      "cell_type": "code",
      "source": [
        "print(5+5)"
      ],
      "metadata": {
        "colab": {
          "base_uri": "https://localhost:8080/"
        },
        "id": "unJgRT0PQeJw",
        "outputId": "b88b4674-3f5b-4adb-8905-770218e79dfb"
      },
      "execution_count": 2,
      "outputs": [
        {
          "output_type": "stream",
          "name": "stdout",
          "text": [
            "10\n"
          ]
        }
      ]
    },
    {
      "cell_type": "code",
      "source": [
        "print(100/3)"
      ],
      "metadata": {
        "colab": {
          "base_uri": "https://localhost:8080/"
        },
        "id": "FEyirIJ7Qp5_",
        "outputId": "da7952c9-4826-4a60-cb76-ab376eef0236"
      },
      "execution_count": 3,
      "outputs": [
        {
          "output_type": "stream",
          "name": "stdout",
          "text": [
            "33.333333333333336\n"
          ]
        }
      ]
    },
    {
      "cell_type": "code",
      "source": [
        "print(\"my name is vinayak, i am from chikodi,currently pusueing bca at bk college chikodi\")"
      ],
      "metadata": {
        "colab": {
          "base_uri": "https://localhost:8080/"
        },
        "id": "zJadjE6zQzRI",
        "outputId": "fe4587b1-f0f9-499f-83a1-349247fb5eda"
      },
      "execution_count": 7,
      "outputs": [
        {
          "output_type": "stream",
          "name": "stdout",
          "text": [
            "my name is vinayak, i am from chikodi,currently pusueing bca at bk college chikodi\n"
          ]
        }
      ]
    },
    {
      "cell_type": "code",
      "source": [
        "print(\"hello \"+\"world\")"
      ],
      "metadata": {
        "colab": {
          "base_uri": "https://localhost:8080/"
        },
        "id": "iRrCZl11Seqi",
        "outputId": "0145619f-4454-481e-efb5-bf43d0c58be0"
      },
      "execution_count": 11,
      "outputs": [
        {
          "output_type": "stream",
          "name": "stdout",
          "text": [
            "hello world\n"
          ]
        }
      ]
    },
    {
      "cell_type": "code",
      "source": [
        "print(\"good morning\"*10)"
      ],
      "metadata": {
        "colab": {
          "base_uri": "https://localhost:8080/"
        },
        "id": "WJBNlrcRT5tJ",
        "outputId": "1573c1a5-faea-406f-9d01-268fff25e085"
      },
      "execution_count": 13,
      "outputs": [
        {
          "output_type": "stream",
          "name": "stdout",
          "text": [
            "good morninggood morninggood morninggood morninggood morninggood morninggood morninggood morninggood morninggood morning\n"
          ]
        }
      ]
    },
    {
      "cell_type": "code",
      "source": [
        "print(\"kannada=30\\n english=30\\n account=30\\n dbms=30\\n cp=30\\n ic=30\")"
      ],
      "metadata": {
        "colab": {
          "base_uri": "https://localhost:8080/"
        },
        "id": "G6Z17p6VVE2G",
        "outputId": "033421a4-644f-4c20-b0ca-96993a323221"
      },
      "execution_count": 38,
      "outputs": [
        {
          "output_type": "stream",
          "name": "stdout",
          "text": [
            "kannada=30\n",
            " english=30\n",
            " account=30\n",
            " dbms=30\n",
            " cp=30\n",
            " ic=30\n"
          ]
        }
      ]
    },
    {
      "cell_type": "code",
      "source": [
        "_N_A_M_E_=\"COMPUTER\"\n",
        "print(_N_A_M_E_)"
      ],
      "metadata": {
        "colab": {
          "base_uri": "https://localhost:8080/"
        },
        "id": "jqSyu3RvctqG",
        "outputId": "8f2788a5-84a7-4582-dbb5-b6c4bdcafb6f"
      },
      "execution_count": 39,
      "outputs": [
        {
          "output_type": "stream",
          "name": "stdout",
          "text": [
            "COMPUTER\n"
          ]
        }
      ]
    },
    {
      "cell_type": "code",
      "source": [
        "yes=3.4\n",
        "print(yes)"
      ],
      "metadata": {
        "colab": {
          "base_uri": "https://localhost:8080/"
        },
        "id": "CiT4_2rSdTZw",
        "outputId": "8edb74af-c1ab-4564-f033-94b0559dcdc8"
      },
      "execution_count": 41,
      "outputs": [
        {
          "output_type": "stream",
          "name": "stdout",
          "text": [
            "3.4\n"
          ]
        }
      ]
    },
    {
      "cell_type": "code",
      "source": [
        "yes=True\n",
        "print(yes)"
      ],
      "metadata": {
        "colab": {
          "base_uri": "https://localhost:8080/"
        },
        "id": "XiPmSMp3eCFm",
        "outputId": "833fb492-58ec-4a6c-94e8-4cad37b09227"
      },
      "execution_count": 44,
      "outputs": [
        {
          "output_type": "stream",
          "name": "stdout",
          "text": [
            "True\n"
          ]
        }
      ]
    },
    {
      "cell_type": "code",
      "source": [
        "name=\"college\"\n",
        "per=67.34\n",
        "print(name,per)"
      ],
      "metadata": {
        "colab": {
          "base_uri": "https://localhost:8080/"
        },
        "id": "8PVsht11fCH2",
        "outputId": "e10bfb22-3a62-4f19-8719-232e360ecea7"
      },
      "execution_count": 47,
      "outputs": [
        {
          "output_type": "stream",
          "name": "stdout",
          "text": [
            "college 67.34\n"
          ]
        }
      ]
    },
    {
      "cell_type": "code",
      "source": [
        "first= \"My name is Anand\"\n",
        "second=\"im studying in BKC college\"\n",
        "print(first,second)"
      ],
      "metadata": {
        "colab": {
          "base_uri": "https://localhost:8080/"
        },
        "id": "n1E7I8v0gVEB",
        "outputId": "e302145c-f400-4581-916a-c13dc8f819a8"
      },
      "execution_count": 53,
      "outputs": [
        {
          "output_type": "stream",
          "name": "stdout",
          "text": [
            "My name is Anand im studying in BKC college\n"
          ]
        }
      ]
    },
    {
      "cell_type": "code",
      "source": [
        "name= \"Bk pu college\"\n",
        "per=85.36\n",
        "year=2024\n",
        "print(\"I have completed PUC in\",name,\"in the year of\",year,\"i got percentage of\",per)"
      ],
      "metadata": {
        "colab": {
          "base_uri": "https://localhost:8080/"
        },
        "id": "I6wwCNi_jjmn",
        "outputId": "b4f38453-6117-4bce-a745-109d5e576c8b"
      },
      "execution_count": 62,
      "outputs": [
        {
          "output_type": "stream",
          "name": "stdout",
          "text": [
            "I have completed PUC in Bk pu college in the year of 2024 i got percentage of 85.36\n"
          ]
        }
      ]
    },
    {
      "cell_type": "code",
      "source": [
        "text= \"Good Evening\"\n",
        "address=\"i'm from chikodi\"\n",
        "print(\"hello\",text,\"i'm fine,where are you from\",address,\"so nice\")"
      ],
      "metadata": {
        "colab": {
          "base_uri": "https://localhost:8080/"
        },
        "id": "kjC-bgdQnHuv",
        "outputId": "62d93d2e-6972-4edf-9eb0-d1b5308813ab"
      },
      "execution_count": 63,
      "outputs": [
        {
          "output_type": "stream",
          "name": "stdout",
          "text": [
            "hello Good Evening i'm fine,where are you from i'm from chikodi so nice\n"
          ]
        }
      ]
    }
  ]
}